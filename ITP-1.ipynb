{
 "cells": [
  {
   "cell_type": "markdown",
   "id": "7b76c7e3",
   "metadata": {},
   "source": [
    "# PRINT :"
   ]
  },
  {
   "cell_type": "code",
   "execution_count": 4,
   "id": "db466afa",
   "metadata": {
    "scrolled": true
   },
   "outputs": [
    {
     "name": "stdout",
     "output_type": "stream",
     "text": [
      "Hello World\n",
      "Hello**World\n",
      "Hello \tWorld\n",
      "Hello \\t World\n"
     ]
    }
   ],
   "source": [
    "print(\"Hello\",\"World\",sep=\" \")\n",
    "print(\"Hello\",\"World\",sep=\"**\")\n",
    "print(\"Hello \\tWorld\")\n",
    "print(\"Hello \\\\t World\")"
   ]
  },
  {
   "cell_type": "code",
   "execution_count": 15,
   "id": "5f0a89fe",
   "metadata": {
    "scrolled": true
   },
   "outputs": [
    {
     "name": "stdout",
     "output_type": "stream",
     "text": [
      "Marks in ITP is 45\n",
      "Marks in ITP is 45\n",
      "Marks in ITP is 45 and Marks in NPV is 55\n",
      "EXAM Marks of ITP is 50 and  NPV is 50\n",
      "Marks in ITP is 50\n",
      "Marks in ITP is 30\n"
     ]
    }
   ],
   "source": [
    "print(\"Marks in ITP is {}\".format(45))           \n",
    "                     ##  {}- Space Holder for value i.e format(45)\n",
    "print(\"Marks in ITP is\",45)\n",
    "print(\"Marks in ITP is {} and Marks in NPV is {}\".format(45,55))\n",
    "print(\"EXAM Marks of ITP is {0} and  NPV is {0}\".format(50))\n",
    "                     ##{0}-Used to store same value at zeroth place in format()\n",
    "print(f\"Marks in ITP is {50}\")\n",
    "print(f\"Marks in ITP is {50-20}\")"
   ]
  },
  {
   "cell_type": "markdown",
   "id": "5f482d1a",
   "metadata": {},
   "source": [
    "# Variable :\n",
    "   Name of memory location"
   ]
  },
  {
   "cell_type": "code",
   "execution_count": 6,
   "id": "09ca38ee",
   "metadata": {},
   "outputs": [
    {
     "name": "stdout",
     "output_type": "stream",
     "text": [
      "Enter name:a\n",
      "a\n",
      "4553118448\n"
     ]
    }
   ],
   "source": [
    "user1=input(\"Enter name:\")\n",
    "print(user1)\n",
    "print(id(user1))        \n",
    "                      ## id()- Gives uqinue identity of an object\n",
    "a_b=10  \n",
    "                      ## Cannot have any special character other than _\n",
    "                      ## Cannot start with number (i.e : 9abc)  \n",
    "                      ## No space btw variable name\n",
    "                      ## Variable name are case sensetive\n",
    "                      ## Not use python functions and keywords as varible name\n"
   ]
  },
  {
   "cell_type": "markdown",
   "id": "c9faf60f",
   "metadata": {},
   "source": [
    "# Input :"
   ]
  },
  {
   "cell_type": "code",
   "execution_count": 32,
   "id": "a0e370d6",
   "metadata": {},
   "outputs": [
    {
     "name": "stdout",
     "output_type": "stream",
     "text": [
      "(10, 20)\n",
      "10 20 40\n",
      "10 [20, 40]\n",
      "10 [20, 30, 40] 50\n"
     ]
    }
   ],
   "source": [
    "a=10,20\n",
    "                      ## Creates a tuple\n",
    "b,c,k=10,20,40\n",
    "# a,b= 10,20,40 (Will give error)\n",
    "d,*e= 10,20,40 \n",
    "                      ## \"*\" : Will store 10 in a and store remaining value in b as list\n",
    "f,*g,h= 10,20,30,40,50\n",
    "print(a)\n",
    "print(b,c,k)\n",
    "print(d,e)\n",
    "print(f,g,h)"
   ]
  },
  {
   "cell_type": "code",
   "execution_count": 33,
   "id": "1f6e34ed",
   "metadata": {},
   "outputs": [
    {
     "name": "stdout",
     "output_type": "stream",
     "text": [
      "4455710544\n",
      "4455710544\n"
     ]
    }
   ],
   "source": [
    "a=50\n",
    "b=a\n",
    "print(id(a))\n",
    "print(id(b))\n",
    "                     ##Have same memory unquie id"
   ]
  },
  {
   "cell_type": "markdown",
   "id": "ab37afc0",
   "metadata": {},
   "source": [
    "Question : Take INPUT from user and print."
   ]
  },
  {
   "cell_type": "code",
   "execution_count": null,
   "id": "7fc9fbcc",
   "metadata": {},
   "outputs": [],
   "source": [
    "user_id=input(\"Enter your name :\")\n",
    "age=int(input(\"Enter your age :\"))\n",
    "city=input(\"Enter your city name :\")\n",
    "\n",
    "##\n",
    "print(\"Name :\",user_id)\n",
    "print(\"Age :\",age)\n",
    "print(\"City :\",city)\n",
    "\n",
    "##\n",
    "print(\"Name is\",user_id,\"age is\",age,\"and city is\",city)\n",
    "\n",
    "##\n",
    "print(user_id,\"--\",age,\"--\",city)\n",
    "\n",
    "##\n",
    "print(\"Name=\",user_id,\"Age=\",age,\"City=\",city)\n",
    "\n",
    "##\n",
    "print(f\"Name = {user_id}\")\n",
    "print(f\"Age = {age}\")\n",
    "print(f\"City = {city}\")\n",
    "print(f\"Name = {user_id}\\nAge = {age}\\nCity = {city}\")\n",
    "print(f\"Name is {user_id}, Age is {age}, City is {city}\")\n",
    "\n",
    "## Print in same line using 3 print statement\n",
    "print(\"Name :\",user_id,end=\" \")\n",
    "print(\"Age :\",age,end=\" \")\n",
    "print(\"City :\",city)"
   ]
  },
  {
   "cell_type": "markdown",
   "id": "825d4529",
   "metadata": {},
   "source": [
    "# Data Type :\n",
    "1. int\n",
    "2. float\n",
    "3. boolean\n",
    "4. set\n",
    "5. complex\n",
    "6. none"
   ]
  },
  {
   "cell_type": "code",
   "execution_count": 36,
   "id": "eb9ca05d",
   "metadata": {},
   "outputs": [
    {
     "name": "stdout",
     "output_type": "stream",
     "text": [
      "(5+4j)\n",
      "5.0\n",
      "4.0\n",
      "5j\n",
      "0.0\n",
      "5.0\n"
     ]
    }
   ],
   "source": [
    "#complex\n",
    "\n",
    "a=5+4j           ## j or J both can be used \n",
    "print(a)\n",
    "type(a)\n",
    "print(a.real)\n",
    "print(a.imag)\n",
    "\n",
    "b=5J\n",
    "print(b)\n",
    "type(b)\n",
    "print(b.real)    ## display 0.0\n",
    "print(b.imag)"
   ]
  },
  {
   "cell_type": "code",
   "execution_count": 37,
   "id": "f3967013",
   "metadata": {},
   "outputs": [
    {
     "name": "stdout",
     "output_type": "stream",
     "text": [
      "0b1010\n",
      "0o12\n",
      "0xa\n"
     ]
    }
   ],
   "source": [
    "## binary, oct and hexagon : \n",
    "print(bin(10))\n",
    "print(oct(10))\n",
    "print(hex(10))\n",
    "\n",
    "## for oct ->  ......,8^3,8^2,8^1,8^0."
   ]
  },
  {
   "cell_type": "markdown",
   "id": "1dca35fa",
   "metadata": {},
   "source": [
    " Convert the data types : Implicit and Explicit \n"
   ]
  },
  {
   "cell_type": "code",
   "execution_count": 43,
   "id": "4918cc12",
   "metadata": {},
   "outputs": [
    {
     "name": "stdout",
     "output_type": "stream",
     "text": [
      "5.0\n",
      "5\n",
      "20\n"
     ]
    }
   ],
   "source": [
    "#Implicit : Done by python interpreter \n",
    "\n",
    "a=10 #int\n",
    "b=2  #int\n",
    "print(a/b)        #float output  (Implicit)\n",
    "print(int(a/b))   #int output    (explicit)\n",
    "\n",
    "d=\"10\"\n",
    "print(a+int(d))   # (Explicit)"
   ]
  },
  {
   "cell_type": "code",
   "execution_count": 48,
   "id": "904ea933",
   "metadata": {},
   "outputs": [
    {
     "name": "stdout",
     "output_type": "stream",
     "text": [
      "10\n",
      "10\n",
      "10.12\n",
      "True\n",
      "(10+0j)\n"
     ]
    }
   ],
   "source": [
    "####  STRING :\n",
    "\n",
    "s1=\"10\"    # String can only be converted when it contains only digit.\n",
    "b=int(s1)\n",
    "print(b)\n",
    "type(b)\n",
    "\n",
    "s2=\"10 \"   # have space\n",
    "c=int(s2)\n",
    "print(c)\n",
    "\n",
    "# s3=\"10.12\" -> Cannot be converted to integer as it contain special charachter (i.e \".\")\n",
    "\n",
    "s3=\"10.12\"\n",
    "d=float(s3)\n",
    "print(d)\n",
    "\n",
    "s4=\"python\"      #BOOLEAN \n",
    "e=bool(s4)\n",
    "print(e)\n",
    "type(e)\n",
    "\n",
    "s5=\"10\"          #COMPLEX\n",
    "f=complex(s5)\n",
    "print(f)"
   ]
  },
  {
   "cell_type": "code",
   "execution_count": 8,
   "id": "6e9e2eb6",
   "metadata": {},
   "outputs": [
    {
     "name": "stdout",
     "output_type": "stream",
     "text": [
      "1\n",
      "0\n",
      "True\n",
      "(1+0j)\n"
     ]
    }
   ],
   "source": [
    "#### BOOLEAN :\n",
    "\n",
    "a= True\n",
    "b=int(a)\n",
    "print(b)\n",
    "\n",
    "c= False\n",
    "d=int(c)\n",
    "print(d)\n",
    "\n",
    "e= True\n",
    "f=str(e)\n",
    "print(f)\n",
    "\n",
    "g= True\n",
    "h=complex(g)\n",
    "print(h)"
   ]
  },
  {
   "cell_type": "code",
   "execution_count": 62,
   "id": "6a88fd20",
   "metadata": {},
   "outputs": [
    {
     "name": "stdout",
     "output_type": "stream",
     "text": [
      "True\n",
      "False\n",
      "(4+5j)\n",
      "0j\n"
     ]
    }
   ],
   "source": [
    "#### COMPLEX :\n",
    "\n",
    "a=4+5j\n",
    "#int(a)         Cannot be converted\n",
    "#float(a)       Cannot be converted\n",
    "print(bool(a))\n",
    "\n",
    "b=0+0j\n",
    "print(bool(b))\n",
    "\n",
    "print(str(a))\n",
    "print(str(b))"
   ]
  },
  {
   "cell_type": "markdown",
   "id": "2cde1262",
   "metadata": {},
   "source": [
    "## OPERATIONS;\n",
    "Membership:\n",
    "    IN\n",
    "    Not IN\n",
    "    \n",
    "Used on string,list,tuple,set and dict."
   ]
  },
  {
   "cell_type": "code",
   "execution_count": 63,
   "id": "7712593a",
   "metadata": {},
   "outputs": [
    {
     "name": "stdout",
     "output_type": "stream",
     "text": [
      "Present\n"
     ]
    }
   ],
   "source": [
    "s1=\"Great Learning\"\n",
    "if \"Great\" in s1:\n",
    "    print(\"Present\")\n",
    "else:\n",
    "    print(\"False\")"
   ]
  },
  {
   "cell_type": "code",
   "execution_count": 64,
   "id": "371ff560",
   "metadata": {},
   "outputs": [
    {
     "name": "stdout",
     "output_type": "stream",
     "text": [
      "Present\n"
     ]
    }
   ],
   "source": [
    "s1=\"Great Learning\"\n",
    "if \"L\" in s1:\n",
    "    print(\"Present\")\n",
    "else:\n",
    "    print(\"False\")"
   ]
  },
  {
   "cell_type": "markdown",
   "id": "d6f91a23",
   "metadata": {},
   "source": [
    "BITWISE operators:\n",
    "    &,|,^"
   ]
  },
  {
   "cell_type": "code",
   "execution_count": 65,
   "id": "e1fbd284",
   "metadata": {},
   "outputs": [
    {
     "data": {
      "text/plain": [
       "8"
      ]
     },
     "execution_count": 65,
     "metadata": {},
     "output_type": "execute_result"
    }
   ],
   "source": [
    "10&12"
   ]
  },
  {
   "cell_type": "code",
   "execution_count": 66,
   "id": "f72a4691",
   "metadata": {},
   "outputs": [
    {
     "data": {
      "text/plain": [
       "14"
      ]
     },
     "execution_count": 66,
     "metadata": {},
     "output_type": "execute_result"
    }
   ],
   "source": [
    "10|12"
   ]
  },
  {
   "cell_type": "code",
   "execution_count": 67,
   "id": "f3f2ce59",
   "metadata": {},
   "outputs": [
    {
     "data": {
      "text/plain": [
       "6"
      ]
     },
     "execution_count": 67,
     "metadata": {},
     "output_type": "execute_result"
    }
   ],
   "source": [
    "10^12"
   ]
  },
  {
   "cell_type": "code",
   "execution_count": 71,
   "id": "0819c656",
   "metadata": {},
   "outputs": [
    {
     "data": {
      "text/plain": [
       "-11"
      ]
     },
     "execution_count": 71,
     "metadata": {},
     "output_type": "execute_result"
    }
   ],
   "source": [
    "#Not operator :\n",
    "~(10)   #(-n-1) (-10-1=-11)"
   ]
  },
  {
   "cell_type": "code",
   "execution_count": 72,
   "id": "07fe4cdd",
   "metadata": {},
   "outputs": [
    {
     "data": {
      "text/plain": [
       "-22"
      ]
     },
     "execution_count": 72,
     "metadata": {},
     "output_type": "execute_result"
    }
   ],
   "source": [
    "~(21)"
   ]
  },
  {
   "cell_type": "code",
   "execution_count": 6,
   "id": "f11f6534",
   "metadata": {},
   "outputs": [
    {
     "data": {
      "text/plain": [
       "{'b': 1, 'd': 1, 'a': 2, 'c': 2}"
      ]
     },
     "execution_count": 6,
     "metadata": {},
     "output_type": "execute_result"
    }
   ],
   "source": [
    "vv='aabccd'\n",
    "cc={i:vv.count(i) for i in set(vv)}\n",
    "cc"
   ]
  }
 ],
 "metadata": {
  "kernelspec": {
   "display_name": "Python 3 (ipykernel)",
   "language": "python",
   "name": "python3"
  },
  "language_info": {
   "codemirror_mode": {
    "name": "ipython",
    "version": 3
   },
   "file_extension": ".py",
   "mimetype": "text/x-python",
   "name": "python",
   "nbconvert_exporter": "python",
   "pygments_lexer": "ipython3",
   "version": "3.9.12"
  }
 },
 "nbformat": 4,
 "nbformat_minor": 5
}

{
 "cells": [
  {
   "cell_type": "markdown",
   "id": "a30c7f31",
   "metadata": {},
   "source": [
    "# STRING :\n",
    "\n"
   ]
  },
  {
   "cell_type": "markdown",
   "id": "50139f5e",
   "metadata": {},
   "source": [
    "-> Sequence of characters.\n",
    "-> Immutable(Cannot be changed once created)."
   ]
  },
  {
   "cell_type": "code",
   "execution_count": 1,
   "id": "1869555d",
   "metadata": {},
   "outputs": [
    {
     "name": "stdout",
     "output_type": "stream",
     "text": [
      "P\n",
      "P\n",
      "PY\n",
      "YTHON\n",
      "PYTHON\n",
      "YHN\n",
      "NOHTYP\n",
      "gninraeL\n",
      "\n"
     ]
    }
   ],
   "source": [
    "                                 ## SLICING : variable_name[Start : End : Step]\n",
    "#END index is not included.So to use END index use (END+1)\n",
    "\n",
    "s1=\"PYTHON\"\n",
    "print(s1[0:1])   #positive indexing\n",
    "print(s1[-6:-5]) #negative indexing\n",
    "print(s1[:2])\n",
    "print(s1[1:])\n",
    "print(s1[:])     #gives compelete string in output\n",
    "print(s1[1:6:2])\n",
    "print(s1[::-1])  #Reverse the output(Start from HIGHEST index)\n",
    "\n",
    "s2=\"Great Learning\"\n",
    "print(s2[13:5:-1])\n",
    "print(s2[3:12:-1]) #No output will be displayed"
   ]
  },
  {
   "cell_type": "code",
   "execution_count": 2,
   "id": "a48a2877",
   "metadata": {},
   "outputs": [
    {
     "name": "stdout",
     "output_type": "stream",
     "text": [
      "6\n",
      "PYTHONGreat Learning\n"
     ]
    }
   ],
   "source": [
    "## LENGTH FUNCTION -- len() :\n",
    "print(len(s1))\n",
    "\n",
    "## CONCATENATION :\n",
    "print(s1+s2)"
   ]
  },
  {
   "cell_type": "code",
   "execution_count": 3,
   "id": "59bd794e",
   "metadata": {},
   "outputs": [
    {
     "name": "stdout",
     "output_type": "stream",
     "text": [
      "Help on class str in module builtins:\n",
      "\n",
      "class str(object)\n",
      " |  str(object='') -> str\n",
      " |  str(bytes_or_buffer[, encoding[, errors]]) -> str\n",
      " |  \n",
      " |  Create a new string object from the given object. If encoding or\n",
      " |  errors is specified, then the object must expose a data buffer\n",
      " |  that will be decoded using the given encoding and error handler.\n",
      " |  Otherwise, returns the result of object.__str__() (if defined)\n",
      " |  or repr(object).\n",
      " |  encoding defaults to sys.getdefaultencoding().\n",
      " |  errors defaults to 'strict'.\n",
      " |  \n",
      " |  Methods defined here:\n",
      " |  \n",
      " |  __add__(self, value, /)\n",
      " |      Return self+value.\n",
      " |  \n",
      " |  __contains__(self, key, /)\n",
      " |      Return key in self.\n",
      " |  \n",
      " |  __eq__(self, value, /)\n",
      " |      Return self==value.\n",
      " |  \n",
      " |  __format__(self, format_spec, /)\n",
      " |      Return a formatted version of the string as described by format_spec.\n",
      " |  \n",
      " |  __ge__(self, value, /)\n",
      " |      Return self>=value.\n",
      " |  \n",
      " |  __getattribute__(self, name, /)\n",
      " |      Return getattr(self, name).\n",
      " |  \n",
      " |  __getitem__(self, key, /)\n",
      " |      Return self[key].\n",
      " |  \n",
      " |  __getnewargs__(...)\n",
      " |  \n",
      " |  __gt__(self, value, /)\n",
      " |      Return self>value.\n",
      " |  \n",
      " |  __hash__(self, /)\n",
      " |      Return hash(self).\n",
      " |  \n",
      " |  __iter__(self, /)\n",
      " |      Implement iter(self).\n",
      " |  \n",
      " |  __le__(self, value, /)\n",
      " |      Return self<=value.\n",
      " |  \n",
      " |  __len__(self, /)\n",
      " |      Return len(self).\n",
      " |  \n",
      " |  __lt__(self, value, /)\n",
      " |      Return self<value.\n",
      " |  \n",
      " |  __mod__(self, value, /)\n",
      " |      Return self%value.\n",
      " |  \n",
      " |  __mul__(self, value, /)\n",
      " |      Return self*value.\n",
      " |  \n",
      " |  __ne__(self, value, /)\n",
      " |      Return self!=value.\n",
      " |  \n",
      " |  __repr__(self, /)\n",
      " |      Return repr(self).\n",
      " |  \n",
      " |  __rmod__(self, value, /)\n",
      " |      Return value%self.\n",
      " |  \n",
      " |  __rmul__(self, value, /)\n",
      " |      Return value*self.\n",
      " |  \n",
      " |  __sizeof__(self, /)\n",
      " |      Return the size of the string in memory, in bytes.\n",
      " |  \n",
      " |  __str__(self, /)\n",
      " |      Return str(self).\n",
      " |  \n",
      " |  capitalize(self, /)\n",
      " |      Return a capitalized version of the string.\n",
      " |      \n",
      " |      More specifically, make the first character have upper case and the rest lower\n",
      " |      case.\n",
      " |  \n",
      " |  casefold(self, /)\n",
      " |      Return a version of the string suitable for caseless comparisons.\n",
      " |  \n",
      " |  center(self, width, fillchar=' ', /)\n",
      " |      Return a centered string of length width.\n",
      " |      \n",
      " |      Padding is done using the specified fill character (default is a space).\n",
      " |  \n",
      " |  count(...)\n",
      " |      S.count(sub[, start[, end]]) -> int\n",
      " |      \n",
      " |      Return the number of non-overlapping occurrences of substring sub in\n",
      " |      string S[start:end].  Optional arguments start and end are\n",
      " |      interpreted as in slice notation.\n",
      " |  \n",
      " |  encode(self, /, encoding='utf-8', errors='strict')\n",
      " |      Encode the string using the codec registered for encoding.\n",
      " |      \n",
      " |      encoding\n",
      " |        The encoding in which to encode the string.\n",
      " |      errors\n",
      " |        The error handling scheme to use for encoding errors.\n",
      " |        The default is 'strict' meaning that encoding errors raise a\n",
      " |        UnicodeEncodeError.  Other possible values are 'ignore', 'replace' and\n",
      " |        'xmlcharrefreplace' as well as any other name registered with\n",
      " |        codecs.register_error that can handle UnicodeEncodeErrors.\n",
      " |  \n",
      " |  endswith(...)\n",
      " |      S.endswith(suffix[, start[, end]]) -> bool\n",
      " |      \n",
      " |      Return True if S ends with the specified suffix, False otherwise.\n",
      " |      With optional start, test S beginning at that position.\n",
      " |      With optional end, stop comparing S at that position.\n",
      " |      suffix can also be a tuple of strings to try.\n",
      " |  \n",
      " |  expandtabs(self, /, tabsize=8)\n",
      " |      Return a copy where all tab characters are expanded using spaces.\n",
      " |      \n",
      " |      If tabsize is not given, a tab size of 8 characters is assumed.\n",
      " |  \n",
      " |  find(...)\n",
      " |      S.find(sub[, start[, end]]) -> int\n",
      " |      \n",
      " |      Return the lowest index in S where substring sub is found,\n",
      " |      such that sub is contained within S[start:end].  Optional\n",
      " |      arguments start and end are interpreted as in slice notation.\n",
      " |      \n",
      " |      Return -1 on failure.\n",
      " |  \n",
      " |  format(...)\n",
      " |      S.format(*args, **kwargs) -> str\n",
      " |      \n",
      " |      Return a formatted version of S, using substitutions from args and kwargs.\n",
      " |      The substitutions are identified by braces ('{' and '}').\n",
      " |  \n",
      " |  format_map(...)\n",
      " |      S.format_map(mapping) -> str\n",
      " |      \n",
      " |      Return a formatted version of S, using substitutions from mapping.\n",
      " |      The substitutions are identified by braces ('{' and '}').\n",
      " |  \n",
      " |  index(...)\n",
      " |      S.index(sub[, start[, end]]) -> int\n",
      " |      \n",
      " |      Return the lowest index in S where substring sub is found,\n",
      " |      such that sub is contained within S[start:end].  Optional\n",
      " |      arguments start and end are interpreted as in slice notation.\n",
      " |      \n",
      " |      Raises ValueError when the substring is not found.\n",
      " |  \n",
      " |  isalnum(self, /)\n",
      " |      Return True if the string is an alpha-numeric string, False otherwise.\n",
      " |      \n",
      " |      A string is alpha-numeric if all characters in the string are alpha-numeric and\n",
      " |      there is at least one character in the string.\n",
      " |  \n",
      " |  isalpha(self, /)\n",
      " |      Return True if the string is an alphabetic string, False otherwise.\n",
      " |      \n",
      " |      A string is alphabetic if all characters in the string are alphabetic and there\n",
      " |      is at least one character in the string.\n",
      " |  \n",
      " |  isascii(self, /)\n",
      " |      Return True if all characters in the string are ASCII, False otherwise.\n",
      " |      \n",
      " |      ASCII characters have code points in the range U+0000-U+007F.\n",
      " |      Empty string is ASCII too.\n",
      " |  \n",
      " |  isdecimal(self, /)\n",
      " |      Return True if the string is a decimal string, False otherwise.\n",
      " |      \n",
      " |      A string is a decimal string if all characters in the string are decimal and\n",
      " |      there is at least one character in the string.\n",
      " |  \n",
      " |  isdigit(self, /)\n",
      " |      Return True if the string is a digit string, False otherwise.\n",
      " |      \n",
      " |      A string is a digit string if all characters in the string are digits and there\n",
      " |      is at least one character in the string.\n",
      " |  \n",
      " |  isidentifier(self, /)\n",
      " |      Return True if the string is a valid Python identifier, False otherwise.\n",
      " |      \n",
      " |      Call keyword.iskeyword(s) to test whether string s is a reserved identifier,\n",
      " |      such as \"def\" or \"class\".\n",
      " |  \n",
      " |  islower(self, /)\n",
      " |      Return True if the string is a lowercase string, False otherwise.\n",
      " |      \n",
      " |      A string is lowercase if all cased characters in the string are lowercase and\n",
      " |      there is at least one cased character in the string.\n",
      " |  \n",
      " |  isnumeric(self, /)\n",
      " |      Return True if the string is a numeric string, False otherwise.\n",
      " |      \n",
      " |      A string is numeric if all characters in the string are numeric and there is at\n",
      " |      least one character in the string.\n",
      " |  \n",
      " |  isprintable(self, /)\n",
      " |      Return True if the string is printable, False otherwise.\n",
      " |      \n",
      " |      A string is printable if all of its characters are considered printable in\n",
      " |      repr() or if it is empty.\n",
      " |  \n",
      " |  isspace(self, /)\n",
      " |      Return True if the string is a whitespace string, False otherwise.\n",
      " |      \n",
      " |      A string is whitespace if all characters in the string are whitespace and there\n",
      " |      is at least one character in the string.\n",
      " |  \n",
      " |  istitle(self, /)\n",
      " |      Return True if the string is a title-cased string, False otherwise.\n",
      " |      \n",
      " |      In a title-cased string, upper- and title-case characters may only\n",
      " |      follow uncased characters and lowercase characters only cased ones.\n",
      " |  \n",
      " |  isupper(self, /)\n",
      " |      Return True if the string is an uppercase string, False otherwise.\n",
      " |      \n",
      " |      A string is uppercase if all cased characters in the string are uppercase and\n",
      " |      there is at least one cased character in the string.\n",
      " |  \n",
      " |  join(self, iterable, /)\n",
      " |      Concatenate any number of strings.\n",
      " |      \n",
      " |      The string whose method is called is inserted in between each given string.\n",
      " |      The result is returned as a new string.\n",
      " |      \n",
      " |      Example: '.'.join(['ab', 'pq', 'rs']) -> 'ab.pq.rs'\n",
      " |  \n",
      " |  ljust(self, width, fillchar=' ', /)\n",
      " |      Return a left-justified string of length width.\n",
      " |      \n",
      " |      Padding is done using the specified fill character (default is a space).\n",
      " |  \n",
      " |  lower(self, /)\n",
      " |      Return a copy of the string converted to lowercase.\n",
      " |  \n",
      " |  lstrip(self, chars=None, /)\n",
      " |      Return a copy of the string with leading whitespace removed.\n",
      " |      \n",
      " |      If chars is given and not None, remove characters in chars instead.\n",
      " |  \n",
      " |  partition(self, sep, /)\n",
      " |      Partition the string into three parts using the given separator.\n",
      " |      \n",
      " |      This will search for the separator in the string.  If the separator is found,\n",
      " |      returns a 3-tuple containing the part before the separator, the separator\n",
      " |      itself, and the part after it.\n",
      " |      \n",
      " |      If the separator is not found, returns a 3-tuple containing the original string\n",
      " |      and two empty strings.\n",
      " |  \n",
      " |  removeprefix(self, prefix, /)\n",
      " |      Return a str with the given prefix string removed if present.\n",
      " |      \n",
      " |      If the string starts with the prefix string, return string[len(prefix):].\n",
      " |      Otherwise, return a copy of the original string.\n",
      " |  \n",
      " |  removesuffix(self, suffix, /)\n",
      " |      Return a str with the given suffix string removed if present.\n",
      " |      \n",
      " |      If the string ends with the suffix string and that suffix is not empty,\n",
      " |      return string[:-len(suffix)]. Otherwise, return a copy of the original\n",
      " |      string.\n",
      " |  \n",
      " |  replace(self, old, new, count=-1, /)\n",
      " |      Return a copy with all occurrences of substring old replaced by new.\n",
      " |      \n",
      " |        count\n",
      " |          Maximum number of occurrences to replace.\n",
      " |          -1 (the default value) means replace all occurrences.\n",
      " |      \n",
      " |      If the optional argument count is given, only the first count occurrences are\n",
      " |      replaced.\n",
      " |  \n",
      " |  rfind(...)\n",
      " |      S.rfind(sub[, start[, end]]) -> int\n",
      " |      \n",
      " |      Return the highest index in S where substring sub is found,\n",
      " |      such that sub is contained within S[start:end].  Optional\n",
      " |      arguments start and end are interpreted as in slice notation.\n",
      " |      \n",
      " |      Return -1 on failure.\n",
      " |  \n",
      " |  rindex(...)\n",
      " |      S.rindex(sub[, start[, end]]) -> int\n",
      " |      \n",
      " |      Return the highest index in S where substring sub is found,\n",
      " |      such that sub is contained within S[start:end].  Optional\n",
      " |      arguments start and end are interpreted as in slice notation.\n",
      " |      \n",
      " |      Raises ValueError when the substring is not found.\n",
      " |  \n",
      " |  rjust(self, width, fillchar=' ', /)\n",
      " |      Return a right-justified string of length width.\n",
      " |      \n",
      " |      Padding is done using the specified fill character (default is a space).\n",
      " |  \n",
      " |  rpartition(self, sep, /)\n",
      " |      Partition the string into three parts using the given separator.\n",
      " |      \n",
      " |      This will search for the separator in the string, starting at the end. If\n",
      " |      the separator is found, returns a 3-tuple containing the part before the\n",
      " |      separator, the separator itself, and the part after it.\n",
      " |      \n",
      " |      If the separator is not found, returns a 3-tuple containing two empty strings\n",
      " |      and the original string.\n",
      " |  \n",
      " |  rsplit(self, /, sep=None, maxsplit=-1)\n",
      " |      Return a list of the words in the string, using sep as the delimiter string.\n",
      " |      \n",
      " |        sep\n",
      " |          The delimiter according which to split the string.\n",
      " |          None (the default value) means split according to any whitespace,\n",
      " |          and discard empty strings from the result.\n",
      " |        maxsplit\n",
      " |          Maximum number of splits to do.\n",
      " |          -1 (the default value) means no limit.\n",
      " |      \n",
      " |      Splits are done starting at the end of the string and working to the front.\n",
      " |  \n",
      " |  rstrip(self, chars=None, /)\n",
      " |      Return a copy of the string with trailing whitespace removed.\n",
      " |      \n",
      " |      If chars is given and not None, remove characters in chars instead.\n",
      " |  \n",
      " |  split(self, /, sep=None, maxsplit=-1)\n",
      " |      Return a list of the words in the string, using sep as the delimiter string.\n",
      " |      \n",
      " |      sep\n",
      " |        The delimiter according which to split the string.\n",
      " |        None (the default value) means split according to any whitespace,\n",
      " |        and discard empty strings from the result.\n",
      " |      maxsplit\n",
      " |        Maximum number of splits to do.\n",
      " |        -1 (the default value) means no limit.\n",
      " |  \n",
      " |  splitlines(self, /, keepends=False)\n",
      " |      Return a list of the lines in the string, breaking at line boundaries.\n",
      " |      \n",
      " |      Line breaks are not included in the resulting list unless keepends is given and\n",
      " |      true.\n",
      " |  \n",
      " |  startswith(...)\n",
      " |      S.startswith(prefix[, start[, end]]) -> bool\n",
      " |      \n",
      " |      Return True if S starts with the specified prefix, False otherwise.\n",
      " |      With optional start, test S beginning at that position.\n",
      " |      With optional end, stop comparing S at that position.\n",
      " |      prefix can also be a tuple of strings to try.\n",
      " |  \n",
      " |  strip(self, chars=None, /)\n",
      " |      Return a copy of the string with leading and trailing whitespace removed.\n",
      " |      \n",
      " |      If chars is given and not None, remove characters in chars instead.\n",
      " |  \n",
      " |  swapcase(self, /)\n",
      " |      Convert uppercase characters to lowercase and lowercase characters to uppercase.\n",
      " |  \n",
      " |  title(self, /)\n",
      " |      Return a version of the string where each word is titlecased.\n",
      " |      \n",
      " |      More specifically, words start with uppercased characters and all remaining\n",
      " |      cased characters have lower case.\n",
      " |  \n",
      " |  translate(self, table, /)\n",
      " |      Replace each character in the string using the given translation table.\n",
      " |      \n",
      " |        table\n",
      " |          Translation table, which must be a mapping of Unicode ordinals to\n",
      " |          Unicode ordinals, strings, or None.\n",
      " |      \n",
      " |      The table must implement lookup/indexing via __getitem__, for instance a\n",
      " |      dictionary or list.  If this operation raises LookupError, the character is\n",
      " |      left untouched.  Characters mapped to None are deleted.\n",
      " |  \n",
      " |  upper(self, /)\n",
      " |      Return a copy of the string converted to uppercase.\n",
      " |  \n",
      " |  zfill(self, width, /)\n",
      " |      Pad a numeric string with zeros on the left, to fill a field of the given width.\n",
      " |      \n",
      " |      The string is never truncated.\n",
      " |  \n",
      " |  ----------------------------------------------------------------------\n",
      " |  Static methods defined here:\n",
      " |  \n",
      " |  __new__(*args, **kwargs) from builtins.type\n",
      " |      Create and return a new object.  See help(type) for accurate signature.\n",
      " |  \n",
      " |  maketrans(...)\n",
      " |      Return a translation table usable for str.translate().\n",
      " |      \n",
      " |      If there is only one argument, it must be a dictionary mapping Unicode\n",
      " |      ordinals (integers) or characters to Unicode ordinals, strings or None.\n",
      " |      Character keys will be then converted to ordinals.\n",
      " |      If there are two arguments, they must be strings of equal length, and\n",
      " |      in the resulting dictionary, each character in x will be mapped to the\n",
      " |      character at the same position in y. If there is a third argument, it\n",
      " |      must be a string, whose characters will be mapped to None in the result.\n",
      "\n",
      "['__add__', '__class__', '__contains__', '__delattr__', '__dir__', '__doc__', '__eq__', '__format__', '__ge__', '__getattribute__', '__getitem__', '__getnewargs__', '__gt__', '__hash__', '__init__', '__init_subclass__', '__iter__', '__le__', '__len__', '__lt__', '__mod__', '__mul__', '__ne__', '__new__', '__reduce__', '__reduce_ex__', '__repr__', '__rmod__', '__rmul__', '__setattr__', '__sizeof__', '__str__', '__subclasshook__', 'capitalize', 'casefold', 'center', 'count', 'encode', 'endswith', 'expandtabs', 'find', 'format', 'format_map', 'index', 'isalnum', 'isalpha', 'isascii', 'isdecimal', 'isdigit', 'isidentifier', 'islower', 'isnumeric', 'isprintable', 'isspace', 'istitle', 'isupper', 'join', 'ljust', 'lower', 'lstrip', 'maketrans', 'partition', 'removeprefix', 'removesuffix', 'replace', 'rfind', 'rindex', 'rjust', 'rpartition', 'rsplit', 'rstrip', 'split', 'splitlines', 'startswith', 'strip', 'swapcase', 'title', 'translate', 'upper', 'zfill']\n"
     ]
    }
   ],
   "source": [
    "                                 ## Help function : Can be used when stucked\n",
    "\n",
    "help(str)\n",
    "\n",
    "#Using directory :\n",
    "print(dir(str))\n",
    "\n",
    "#print(help(s1.upper))"
   ]
  },
  {
   "cell_type": "code",
   "execution_count": 4,
   "id": "0122141b",
   "metadata": {},
   "outputs": [
    {
     "name": "stdout",
     "output_type": "stream",
     "text": [
      "PYTHON\n",
      "great learning\n",
      "Great learning\n",
      "Great Learning\n"
     ]
    }
   ],
   "source": [
    "## Upper Case :\n",
    "print(s1.upper())\n",
    "\n",
    "## Lower Case :\n",
    "print(s2.lower())\n",
    "\n",
    "## Capitalize :  Only first letter capital\n",
    "print(s2.capitalize())\n",
    "\n",
    "## Title : All first letter of word are capital\n",
    "print(s2.title())"
   ]
  },
  {
   "cell_type": "code",
   "execution_count": 5,
   "id": "bf54e189",
   "metadata": {},
   "outputs": [
    {
     "name": "stdout",
     "output_type": "stream",
     "text": [
      "True\n",
      "False\n",
      "True\n",
      "False\n",
      "Great India\n",
      "4\n",
      "8\n",
      "8\n",
      "6\n",
      "-1\n"
     ]
    }
   ],
   "source": [
    "## Check if upper and lower :\n",
    "print(s1.isupper())\n",
    "print(s2.isupper())\n",
    "print(s2[0].isupper() and s2[1].islower())\n",
    "\n",
    "## Check if numeric:\n",
    "print(s1.isnumeric())\n",
    "\n",
    "## Replace :\n",
    "print(s2.replace(\"Learning\",\"India\"))\n",
    "\n",
    "## Index :\n",
    "print(s2.index(\"t\"))\n",
    "print(s2.index(\"a\",5,14))\n",
    "print(s2.rindex(\"a\"))    # rindex() - gives highest index of character \n",
    "print(s2.index(\"Learning\"))  # Gives start index of \"Learning\"(i.e L)\n",
    "\n",
    "\n",
    "#print(s2.index(\"lol\"))  When given not found in string would display Error.\n",
    "## FIND :\n",
    "print(s2.find(\"lol\"))  #-1 output shows that \"lol\" string is not present in String"
   ]
  },
  {
   "cell_type": "code",
   "execution_count": 6,
   "id": "7e749b69",
   "metadata": {},
   "outputs": [
    {
     "name": "stdout",
     "output_type": "stream",
     "text": [
      "0\n",
      "2\n",
      "['Python', 'language', 'and', 'Python', 'coding']\n",
      "['ABC', 'DEF', 'GHI', 'KLM']\n",
      "['ABC', 'DEF,GHI,KLM']\n",
      "['ABC', 'DEF', 'GHI,KLM']\n",
      "['ABC', 'DEF', 'GHI', 'KLM']\n"
     ]
    }
   ],
   "source": [
    "## Count the occurance :\n",
    "s3=\"Python language and Python coding\"\n",
    "print(s3.count(\"data\"))\n",
    "print(s3.count(\"Python\"))\n",
    "\n",
    "\n",
    "## SPLIT :\n",
    "print(s3.split())\n",
    "s4=\"ABC,DEF,GHI,KLM\"\n",
    "print(s4.split(\",\"))  # Delimiter \",\"\n",
    "print(s4.split(\",\",maxsplit=1))  # Seperate \"ABC\" and rest of String\n",
    "print(s4.split(\",\",maxsplit=2))  # Seprate \"ABC\",\"DEF\" and rest of string\n",
    "print(s4.split(\",\",maxsplit=3)) "
   ]
  },
  {
   "cell_type": "code",
   "execution_count": 22,
   "id": "27feb30b",
   "metadata": {},
   "outputs": [
    {
     "name": "stdout",
     "output_type": "stream",
     "text": [
      "ABC-DEF-GHI-KLM\n"
     ]
    }
   ],
   "source": [
    "## JOIN :\n",
    "s5=s4.split(\",\")\n",
    "print(\"-\".join(s5))"
   ]
  },
  {
   "cell_type": "code",
   "execution_count": 2,
   "id": "78da7148",
   "metadata": {},
   "outputs": [
    {
     "name": "stdout",
     "output_type": "stream",
     "text": [
      "True\n",
      "True\n",
      "False\n",
      "/HELLO/\n",
      "HELLO\n",
      "/HELLO/***\n",
      "***/HELLO/\n"
     ]
    }
   ],
   "source": [
    "## CHECK is Digit :\n",
    "s6=\"123\"\n",
    "print(s6.isdigit())\n",
    "\n",
    "## CHECK is space :\n",
    "s7=\" \"\n",
    "print(s7.isspace())\n",
    "\n",
    "## CHECK is alpha :\n",
    "s8=\"10 HELLO\"\n",
    "print(s8.isalpha())\n",
    "\n",
    "## Strip :\n",
    "s9=\"***/HELLO/***\"\n",
    "print(s9.strip(\"*\"))\n",
    "print(s9.strip(\"*/\"))\n",
    "print(s9.lstrip(\"*\")) # Remove only from left\n",
    "print(s9.rstrip(\"*\")) # Remove only from right"
   ]
  },
  {
   "cell_type": "code",
   "execution_count": 9,
   "id": "6ec7de9c",
   "metadata": {},
   "outputs": [
    {
     "name": "stdout",
     "output_type": "stream",
     "text": [
      "True\n",
      "False\n",
      "True\n"
     ]
    }
   ],
   "source": [
    "## Start with :\n",
    "s10=\"Hello World\"\n",
    "print(s10.startswith(\"H\"))\n",
    "\n",
    "## End with :\n",
    "print(s10.endswith('W'))\n",
    "\n",
    "## in and not in :\n",
    "print(\"Hello\" in s10)"
   ]
  },
  {
   "cell_type": "markdown",
   "id": "f476a4a2",
   "metadata": {},
   "source": [
    "QUESTION :"
   ]
  },
  {
   "cell_type": "code",
   "execution_count": 10,
   "id": "6e8de102",
   "metadata": {},
   "outputs": [
    {
     "name": "stdout",
     "output_type": "stream",
     "text": [
      "Data Scientist\n",
      "DATA SCIENCE\n",
      "data science\n",
      "Data Science\n",
      "5\n",
      "['Data', 'Science']\n",
      "Data**Science\n"
     ]
    }
   ],
   "source": [
    "str1=\"Data Science\"\n",
    "print(str1.replace(\"Science\",\"Scientist\"))\n",
    "print(str1.upper())\n",
    "print(str1.lower())\n",
    "print(str1.title())\n",
    "print(str1.index(\"S\"))\n",
    "#print(str1.index(\"z\"))\n",
    "print(str1.split(\" \"))\n",
    "print(\"**\".join(str1.split(\" \")))"
   ]
  },
  {
   "cell_type": "markdown",
   "id": "a54a0871",
   "metadata": {},
   "source": [
    "\n",
    "\n",
    "\n",
    "\n",
    "\n",
    "\n",
    "# LIST :"
   ]
  },
  {
   "cell_type": "markdown",
   "id": "4b0945e4",
   "metadata": {},
   "source": [
    "-> List can contain homogenous data type.  \n",
    "-> Mutable data type (Can be changed)."
   ]
  },
  {
   "cell_type": "code",
   "execution_count": 2,
   "id": "35033d37",
   "metadata": {},
   "outputs": [
    {
     "name": "stdout",
     "output_type": "stream",
     "text": [
      "<class 'list'>\n",
      "<class 'list'>\n"
     ]
    }
   ],
   "source": [
    "#Example :\n",
    "\n",
    "s1=[10,\"py\",True,[1,2,3]]\n",
    "s2=[]  # Empty list\n",
    "s3=list() #Empty list\n",
    "print(type(s2))\n",
    "print(type(s3))"
   ]
  },
  {
   "cell_type": "code",
   "execution_count": 3,
   "id": "902f1bf7",
   "metadata": {},
   "outputs": [
    {
     "name": "stdout",
     "output_type": "stream",
     "text": [
      "[10, True]\n"
     ]
    }
   ],
   "source": [
    "# Slicing :\n",
    "#print(s1[1])\n",
    "#print(s1[3])\n",
    "#print(s1[0:3])\n",
    "print(s1[0:4:2])\n",
    "#print(s1[::-1])\n",
    "#print(s1[3][2])   # Display 3 of [1,2,3]\n",
    "#print(s1[1][0])   # Display P of \"py\""
   ]
  },
  {
   "cell_type": "code",
   "execution_count": 13,
   "id": "40720f93",
   "metadata": {},
   "outputs": [
    {
     "name": "stdout",
     "output_type": "stream",
     "text": [
      "[10, 'python', True, [1, 2, 3]]\n"
     ]
    }
   ],
   "source": [
    "# Change value :\n",
    "s1[1]=\"python\"\n",
    "print(s1)"
   ]
  },
  {
   "cell_type": "code",
   "execution_count": 14,
   "id": "1c19b809",
   "metadata": {},
   "outputs": [
    {
     "name": "stdout",
     "output_type": "stream",
     "text": [
      "4\n"
     ]
    }
   ],
   "source": [
    "# LENGTH :\n",
    "print(len(s1))"
   ]
  },
  {
   "cell_type": "code",
   "execution_count": 15,
   "id": "be973300",
   "metadata": {},
   "outputs": [
    {
     "name": "stdout",
     "output_type": "stream",
     "text": [
      "[1, 2, 3, 4, 5, 6, 7, 8]\n",
      "[1, 2, 3, 4, 1, 2, 3, 4, 1, 2, 3, 4]\n",
      "False\n",
      "True\n",
      "True\n"
     ]
    }
   ],
   "source": [
    "# CONCATENATION :\n",
    "l1=[1,2,3,4]\n",
    "l2=[5,6,7,8]\n",
    "print(l1+l2)\n",
    "\n",
    "print(l1*3)\n",
    "\n",
    "## Membership Operator :\n",
    "print(12 in l1)\n",
    "print(12 not in l1)\n",
    "print(8 in l2)"
   ]
  },
  {
   "cell_type": "code",
   "execution_count": 16,
   "id": "d3475a15",
   "metadata": {},
   "outputs": [
    {
     "name": "stdout",
     "output_type": "stream",
     "text": [
      "[1, 2, 3, 4, 500]\n",
      "[1, 2, 3, 4, 500, [500, 22]]\n"
     ]
    }
   ],
   "source": [
    "## APPEND :\n",
    "l1.append(500)\n",
    "print(l1)\n",
    "\n",
    "#l1.append(500,22) ---Cannot append more then one value at a time.\n",
    "l1.append([500,22])  #Can be append in form of list.\n",
    "print(l1)"
   ]
  },
  {
   "cell_type": "code",
   "execution_count": 17,
   "id": "8d40a0dc",
   "metadata": {},
   "outputs": [
    {
     "name": "stdout",
     "output_type": "stream",
     "text": [
      "[11, 22, 33, 44, 55, 66]\n",
      "[11, 22, 33, 44, 55, 66, 77, 88, 99, 101]\n",
      "[10, 20, 33, 44, 55, 66, 77, 88, 99, 101]\n",
      "[12, 23, 30, 33, 44, 55, 66, 77, 88, 99, 101]\n"
     ]
    }
   ],
   "source": [
    "## EXTEND : More than one value can be added at a time\n",
    "\n",
    "l2=[11,22,33,44]\n",
    "l2.extend([55,66])\n",
    "print(l2)\n",
    "\n",
    "l3=[77,88,99,101]\n",
    "l2.extend(l3)\n",
    "print(l2)\n",
    "\n",
    "l2[0:2]=[10,20]\n",
    "print(l2)\n",
    "l2[0:2]=[12,23,30]    # Every element shift by one place for 30\n",
    "print(l2)"
   ]
  },
  {
   "cell_type": "code",
   "execution_count": 18,
   "id": "411a9f8e",
   "metadata": {},
   "outputs": [
    {
     "name": "stdout",
     "output_type": "stream",
     "text": [
      "[12, 101, 23, 30, 33, 44, 55, 66, 77, 88, 99, 101]\n",
      "2\n",
      "1\n",
      "11\n",
      "[101, 99, 88, 77, 66, 55, 44, 33, 30, 23, 101, 12]\n",
      "[101, 99, 88, 77, 66, 55, 44, 33, 30, 23, 101, 12]\n"
     ]
    }
   ],
   "source": [
    "## Insert :   list_name.insert(index,insert_value)\n",
    "l2.insert(1,101)\n",
    "print(l2)\n",
    "\n",
    "\n",
    "## COUNT :\n",
    "print(l2.count(101))\n",
    "\n",
    "\n",
    "## INDEX :\n",
    "print(l2.index(101))\n",
    "print(l2.index(101,2,101))  \n",
    "\n",
    "\n",
    "## Reverse list :\n",
    "print(l2[::-1])   #Display reverse copy of list\n",
    "l2.reverse()\n",
    "print(l2)         #Permenantly reverse the list "
   ]
  },
  {
   "cell_type": "code",
   "execution_count": 19,
   "id": "0c222164",
   "metadata": {},
   "outputs": [
    {
     "name": "stdout",
     "output_type": "stream",
     "text": [
      "[1, 2, 3, 4, 5, 6, 7, 8, 9, 'ABC', 'DEF', 10, 2, 4]\n",
      "[1, 2, 4, 5, 6, 7, 8, 9, 'ABC', 'DEF', 10, 2]\n",
      "4\n",
      "3\n",
      "[1, 2, 5, 6, 7, 8, 9, 'ABC', 'DEF', 10, 2]\n"
     ]
    }
   ],
   "source": [
    "## Remove :\n",
    "l3=[1,2,3,4,5,6,7,8,9,\"ABC\",10,\"DEF\",10,2,4]\n",
    "l3.remove(10)                                 #Remove only first occurance of \"10\"\n",
    "print(l3)\n",
    "\n",
    "\n",
    "## Pop :\n",
    "p=l3.pop()   #Bydefault will delete last element and display the deleted item.\n",
    "q=l3.pop(2)  #Delete value present at index \"2\"\n",
    "print(l3)\n",
    "print(p)     # value can be stored as used to perform functions.\n",
    "print(q)\n",
    "# If list is empty pop function will display error.\n",
    "\n",
    "# Clear :\n",
    "#l3.clear()\n",
    "\n",
    "# DELETE :\n",
    "del l3[2]    \n",
    "print(l3)\n",
    "del l3   #Compeletly delete list \"l3'\n"
   ]
  },
  {
   "cell_type": "code",
   "execution_count": 20,
   "id": "ddb184f7",
   "metadata": {},
   "outputs": [
    {
     "name": "stdout",
     "output_type": "stream",
     "text": [
      "[21, 31, 41, 51, 61, 33, 44, 56]\n",
      "[21, 31, 33, 41, 44, 51, 56, 61]\n",
      "[61, 56, 51, 44, 41, 33, 31, 21]\n"
     ]
    },
    {
     "data": {
      "text/plain": [
       "[61, 56, 51, 44, 41, 33, 31, 21]"
      ]
     },
     "execution_count": 20,
     "metadata": {},
     "output_type": "execute_result"
    }
   ],
   "source": [
    "## COPY :\n",
    "l4=[21,31,41,51,61,33,44,56]\n",
    "l5=l4.copy()\n",
    "print(l5) \n",
    "# when done l5=l4 , both will be allocated with same memory address and any change done in both list would reflect in other\n",
    "\n",
    "## Sort() : Sort in ascending order.Change the order of list\n",
    "\n",
    "l4.sort()\n",
    "print(l4)\n",
    "l4.sort(reverse=True)   #Sort in descending order\n",
    "print(l4)\n",
    " \n",
    "## Sorted : Build in function.Can be used on list and tuples\n",
    "sorted(l4)             #Do not need to print.(Gives copy of list).Do not change value of list\n",
    "sorted(l4,reverse=True)\n",
    "\n",
    "\n"
   ]
  },
  {
   "cell_type": "markdown",
   "id": "3b7cae74",
   "metadata": {},
   "source": [
    "# TUPLES :"
   ]
  },
  {
   "cell_type": "markdown",
   "id": "2c76137d",
   "metadata": {},
   "source": [
    "    -> Immutable\n",
    "    -> Can have different types of data"
   ]
  },
  {
   "cell_type": "code",
   "execution_count": 23,
   "id": "7fe49b00",
   "metadata": {},
   "outputs": [
    {
     "name": "stdout",
     "output_type": "stream",
     "text": [
      "(10, 12)\n",
      "<class 'tuple'>\n",
      "()\n",
      "<class 'tuple'>\n",
      "(1, 2, ('ABC', 'DEF'), [1, 2, 3, 4], (1, 2, 3, 4), 'Python', 1, 2, 'Java')\n"
     ]
    }
   ],
   "source": [
    "## EXAMPLE :\n",
    "x=10,12\n",
    "print(x)\n",
    "print(type(x))\n",
    "y=tuple()\n",
    "print(y)\n",
    "print(type(x))\n",
    "z=(1,2,(\"ABC\",\"DEF\"),[1,2,3,4],(1,2,3,4),\"Python\",1,2,\"Java\")\n",
    "print(z)"
   ]
  },
  {
   "cell_type": "code",
   "execution_count": 24,
   "id": "2745c6e3",
   "metadata": {},
   "outputs": [
    {
     "name": "stdout",
     "output_type": "stream",
     "text": [
      "2\n",
      "5\n",
      "9\n",
      "(1, 2, ('ABC', 'DEF'), [1, 2, 3, 4, 200], (1, 2, 3, 4), 'Python', 1, 2, 'Java')\n"
     ]
    }
   ],
   "source": [
    "## COUNT :\n",
    "print(z.count(1))\n",
    "\n",
    "## INDEX :\n",
    "print(z.index(\"Python\"))\n",
    "\n",
    "#z[0]=200 Cannot be done as tuple is immutable.\n",
    "\n",
    "## LENGTH :\n",
    "print(len(z))\n",
    "\n",
    "## Nested item can be changed(Mutable)\n",
    "z[3].append(200)\n",
    "print(z)"
   ]
  },
  {
   "cell_type": "code",
   "execution_count": 1,
   "id": "0fbae94d",
   "metadata": {},
   "outputs": [
    {
     "name": "stdout",
     "output_type": "stream",
     "text": [
      "(10, 12, 14, [1, 2, 3], 'Python', 5, 6, 7, 3, 6, 2)\n",
      "[2, 3, 5, 6, 6, 7]\n",
      "(2, 3, 5, 6, 6, 7)\n"
     ]
    }
   ],
   "source": [
    "## CONCATENATION :\n",
    "t1=(10,12,14,[1,2,3],\"Python\")\n",
    "t2=(5,6,7,3,6,2)\n",
    "print(t1+t2)\n",
    "\n",
    "\n",
    "## SORTED :\n",
    "print(sorted(t2))         ## Gives a list\n",
    "\n",
    "print(tuple(sorted(t2)))  ## Converting back to tuple"
   ]
  },
  {
   "cell_type": "code",
   "execution_count": null,
   "id": "dac14214",
   "metadata": {},
   "outputs": [],
   "source": [
    "## MINIMUM :\n",
    "print(min(t2))\n",
    "\n",
    "## MAXIMUM :\n",
    "print(max(t2))\n",
    "\n",
    "## SUM :\n",
    "print(sum(t2))\n",
    "\n",
    "##MEMBERSHIP OPERATOR :\n",
    "print(7 in t2)\n",
    "print(7 not in t2)"
   ]
  },
  {
   "cell_type": "markdown",
   "id": "57dbcb4e",
   "metadata": {},
   "source": [
    "# SET:"
   ]
  },
  {
   "cell_type": "markdown",
   "id": "f707109e",
   "metadata": {},
   "source": [
    "    ->Data is not present in same order.\n",
    "    ->Cannot perform indexing and slicing beacause it is unordered.\n",
    "    ->Cannot have duplicate value(Will omit repeated values).\n",
    "    ->Can store multiple types of data.\n",
    "    ->Cannot have list or set inside it.\n",
    "    ->Can only store immutable data in it.\n",
    "\n",
    "    print(dir(set))"
   ]
  },
  {
   "cell_type": "code",
   "execution_count": null,
   "id": "3c185a65",
   "metadata": {},
   "outputs": [],
   "source": [
    "## EXAMPLE :\n",
    "s=set()\n",
    "print(type(s))\n",
    "\n",
    "s1={10,11,23,54,23,55}   # cannot be leaved blank as it would be considered as dictornary.\n",
    "\n",
    "s2={10,8,\"python\",\"a\",\"data\",10}\n",
    "print(s2)\n",
    "\n",
    "#s3={10,8,\"python\",\"a\",\"data\",10,[1,2,3],{12,22,33}}  - Cannot have list or set as element\n"
   ]
  },
  {
   "cell_type": "code",
   "execution_count": null,
   "id": "9892bc07",
   "metadata": {},
   "outputs": [],
   "source": [
    "## Concatenation :\n",
    "#    s1+s2   --- cannot be performed\n",
    "\n",
    "\n",
    "## MINIMUM :\n",
    "print(min(s1))\n",
    "\n",
    "## MAXIMUM :\n",
    "print(max(s1))"
   ]
  },
  {
   "cell_type": "code",
   "execution_count": 25,
   "id": "ca42780a",
   "metadata": {},
   "outputs": [
    {
     "name": "stdout",
     "output_type": "stream",
     "text": [
      "{'data', 10, 12, 500, 'python'}\n",
      "{0, 'data', 500, 12, 'a', 30}\n",
      "{10, 'python'}\n",
      "{0, 'a', 30}\n",
      "{10, 'python'}\n",
      "{0, 12}\n",
      "{'data', 300, 'a', 400, 500, 30}\n"
     ]
    }
   ],
   "source": [
    "s3={10,12,\"data\",500,10}\n",
    "s4={0,12,\"data\",500}\n",
    "\n",
    "\n",
    "## ADD :   Add \"python\" any postion in set (Add only one element)\n",
    "s3.add(\"python\")\n",
    "print(s3)\n",
    "\n",
    "## UPDATE : Add multiple element\n",
    "s4.update({\"a\",30})\n",
    "print(s4)\n",
    "\n",
    "\n",
    "## Difference :   Gives value that are not present in other set.\n",
    "print(s3-s4)\n",
    "print(s4-s3)\n",
    "print(s3.difference(s4))\n",
    "\n",
    "\n",
    "## UNION :   Repeated value will be omited (Display which are not common in both)\n",
    "s5={0,12,300,400}\n",
    "s4.union(s5)\n",
    "\n",
    "## Intersection :     Display which are common in both\n",
    "print(s4.intersection(s5))\n",
    "\n",
    "##Symmetric Difference: Remove common element in both set and display\n",
    "print(s4.symmetric_difference(s5))"
   ]
  },
  {
   "cell_type": "code",
   "execution_count": null,
   "id": "b476f4a1",
   "metadata": {},
   "outputs": [],
   "source": [
    "## DISJOINT : Check both set are completly different or not\n",
    "print(s4.isdisjoint(s5))\n",
    "\n",
    "## SUBSET: When all the value of one set is present in other set then first set is referred as subset\n",
    "print(s4.issubset(s5))\n",
    "\n",
    "## SUPERSET: A set which contain all the value along with other value that are present in other set.\n",
    "print(s4.issuperset(s5))\n"
   ]
  },
  {
   "cell_type": "code",
   "execution_count": 26,
   "id": "109f441a",
   "metadata": {},
   "outputs": [
    {
     "name": "stdout",
     "output_type": "stream",
     "text": [
      "{7, 16, 18}\n",
      "{16, 18, 7}\n",
      "{10, 2, 7}\n"
     ]
    },
    {
     "data": {
      "text/plain": [
       "16"
      ]
     },
     "execution_count": 26,
     "metadata": {},
     "output_type": "execute_result"
    }
   ],
   "source": [
    "## DIFFERENCE UPDATE : Update the difference value in set\n",
    "s8={10,16,18,2}\n",
    "s9={10,7,2}\n",
    "print(s8.symmetric_difference(s9))   \n",
    "s8.symmetric_difference_update(s9)  \n",
    "print(s8)       \n",
    "print(s9)\n",
    "\n",
    "## Pop : \n",
    "s8.pop()   #Randomly delete any value and display it."
   ]
  },
  {
   "cell_type": "code",
   "execution_count": 3,
   "id": "12aebdf4",
   "metadata": {},
   "outputs": [
    {
     "name": "stdout",
     "output_type": "stream",
     "text": [
      "{4, 55, 56, 10, 77}\n",
      "{55, 56, 10, 77}\n"
     ]
    }
   ],
   "source": [
    "s10={10,23,4,56,77,55}\n",
    "\n",
    "## REMOVE :     Note- Will display error if value not present in set\n",
    "s10.remove(23)\n",
    "print(s10)\n",
    "\n",
    "\n",
    "## DISCARD :    Note- Wont give error if value not present in set\n",
    "s10.discard(4)\n",
    "print(s10)"
   ]
  },
  {
   "cell_type": "markdown",
   "id": "e6710684",
   "metadata": {},
   "source": [
    "# DICTIONARY :"
   ]
  },
  {
   "cell_type": "markdown",
   "id": "1a5b270c",
   "metadata": {},
   "source": [
    "    -> Unordered collection of items and each item has a key/value pair.\n",
    "    -> Key can only be immutable data type.(int,float,string,tuple)\n",
    "    -> Used to recover value part when key is known.\n",
    "    -> Values can be any data type\n",
    "    -> Cannot have duplicate key (if present will only consider last value )\n",
    "    -> List cannot be key."
   ]
  },
  {
   "cell_type": "code",
   "execution_count": 28,
   "id": "ca7cfc59",
   "metadata": {},
   "outputs": [
    {
     "name": "stdout",
     "output_type": "stream",
     "text": [
      "{0: True, (10, 12): 10, 'A': [10, 11, 12], 1.1: (11, 12), 'A1': {'F1': 123, 'F2': 234}}\n",
      "<class 'dict'>\n",
      "{}\n"
     ]
    }
   ],
   "source": [
    "# EXAMPLE :\n",
    "d1={\n",
    "    0:True,\n",
    "    (10,12):10,\n",
    "    \"A\":[10,11,12],\n",
    "    1.1:(11,12),\n",
    "    \"A1\":{\"F1\":123,\"F2\":234}}\n",
    "print(d1)\n",
    "print(type(d1))\n",
    "\n",
    "d2=dict()   #Empty dictionary\n",
    "print(d2)\n",
    "\n"
   ]
  },
  {
   "cell_type": "code",
   "execution_count": 29,
   "id": "5d3dc564",
   "metadata": {},
   "outputs": [
    {
     "name": "stdout",
     "output_type": "stream",
     "text": [
      "{0: True, (10, 12): 10, 'A': 50, 1.1: (11, 12), 'A1': {'F1': 123, 'F2': 234}}\n",
      "{0: True, (10, 12): 10, 'A': 50, 1.1: (11, 12), 'A1': {'F1': 123, 'F2': 'ABC'}}\n",
      "True\n",
      "True\n",
      "KEY is not present\n"
     ]
    }
   ],
   "source": [
    "## Changing value :\n",
    "d1[\"A\"]=50\n",
    "print(d1)\n",
    "\n",
    "d1[\"A1\"][\"F2\"]= \"ABC\"\n",
    "print(d1)\n",
    "\n",
    "## Accessing value :\n",
    "print(d1[0])      # Will display error if key is not present    \n",
    "print(d1.get(0))  # Wont give error if key not present and display \"NONE\"\n",
    "print(d1.get(223,\"KEY is not present\"))   # Default set to \"NONE\" so can be changed"
   ]
  },
  {
   "cell_type": "code",
   "execution_count": 30,
   "id": "10241449",
   "metadata": {},
   "outputs": [
    {
     "name": "stdout",
     "output_type": "stream",
     "text": [
      "dict_items([(0, True), ((10, 12), 10), ('A', 50), (1.1, (11, 12)), ('A1', {'F1': 123, 'F2': 'ABC'})])\n",
      "dict_values([True, 10, 50, (11, 12), {'F1': 123, 'F2': 'ABC'}])\n",
      "dict_keys([0, (10, 12), 'A', 1.1, 'A1'])\n"
     ]
    }
   ],
   "source": [
    "## .item :\n",
    "print(d1.items())   # Display a tuple\n",
    "\n",
    "## .values :\n",
    "print(d1.values())  # Display only values\n",
    "\n",
    "## .keys() :\n",
    "print(d1.keys())# Display only keys"
   ]
  },
  {
   "cell_type": "code",
   "execution_count": 31,
   "id": "6e2310c8",
   "metadata": {},
   "outputs": [
    {
     "name": "stdout",
     "output_type": "stream",
     "text": [
      "{0: True, (10, 12): 10, 'A': 50, 1.1: (11, 12), 'A1': {'F1': 123, 'F2': 'ABC'}, 'X': 500}\n",
      "{0: True, (10, 12): 10, 'A': 100, 1.1: (11, 12), 'A1': {'F1': 123, 'F2': 'ABC'}, 'X': 500, 'E': [1, 2, 3]}\n"
     ]
    }
   ],
   "source": [
    "## UPDATE :\n",
    "d1[\"X\"]=500\n",
    "print(d1)\n",
    "\n",
    "d1.update({\"A\":100,\"E\":[1,2,3]})    #update if value present and add new key if not present\n",
    "print(d1)"
   ]
  },
  {
   "cell_type": "code",
   "execution_count": null,
   "id": "fc4ec9ab",
   "metadata": {},
   "outputs": [],
   "source": [
    "## POP :\n",
    "d1.pop(\"A1\")in"
   ]
  },
  {
   "cell_type": "code",
   "execution_count": null,
   "id": "2f0f0529",
   "metadata": {},
   "outputs": [],
   "source": [
    "## POP ITEM :\n",
    "d1.popitem()   #Last key and its value when not specified | Tuple is obtained"
   ]
  },
  {
   "cell_type": "code",
   "execution_count": 5,
   "id": "ad7b18b9",
   "metadata": {},
   "outputs": [
    {
     "data": {
      "text/plain": [
       "{'S1': None, 'S2': None, 'S3': None}"
      ]
     },
     "execution_count": 5,
     "metadata": {},
     "output_type": "execute_result"
    }
   ],
   "source": [
    "## FROMKEYS : Use to initialise a dictionary \n",
    "l1=[\"S1\",\"S2\",\"S3\"]    #LIST\n",
    "dict.fromkeys(l1)"
   ]
  },
  {
   "cell_type": "code",
   "execution_count": 33,
   "id": "47ce7a33",
   "metadata": {},
   "outputs": [
    {
     "data": {
      "text/plain": [
       "{'S1': 0, 'S2': 0, 'S3': 0}"
      ]
     },
     "execution_count": 33,
     "metadata": {},
     "output_type": "execute_result"
    }
   ],
   "source": [
    "l2=(\"S1\",\"S2\",\"S3\")      #TUPLE\n",
    "dict.fromkeys(l2,0)"
   ]
  },
  {
   "cell_type": "code",
   "execution_count": 6,
   "id": "28cafe2e",
   "metadata": {},
   "outputs": [
    {
     "data": {
      "text/plain": [
       "{'G': 0,\n",
       " 'r': 0,\n",
       " 'e': 0,\n",
       " 'a': 0,\n",
       " 't': 0,\n",
       " ' ': 0,\n",
       " 'l': 0,\n",
       " 'n': 0,\n",
       " 'i': 0,\n",
       " 'g': 0}"
      ]
     },
     "execution_count": 6,
     "metadata": {},
     "output_type": "execute_result"
    }
   ],
   "source": [
    "l3=\"Great learning\"     #Can be intialise with any iterable data type\n",
    "dict.fromkeys(l3,0)"
   ]
  },
  {
   "cell_type": "code",
   "execution_count": 34,
   "id": "16a4c615",
   "metadata": {},
   "outputs": [
    {
     "name": "stdout",
     "output_type": "stream",
     "text": [
      "76\n",
      "{'A': 43, 'B': 76, 'C': 88, 'D': 99, 'E': 76}\n",
      "99\n",
      "{'A': 43, 'B': 76, 'C': 88, 'D': 99, 'E': 76}\n"
     ]
    }
   ],
   "source": [
    "## SETDEFAULT :\n",
    "d3={\n",
    "    \"A\":43,\n",
    "    \"B\":76,\n",
    "    \"C\":88,\n",
    "    \"D\":99\n",
    "}\n",
    "x=d3.setdefault(\"E\",76) # if key is not present then it would update the dictionary\n",
    "print(x)\n",
    "print(d3)\n",
    "y=d3.setdefault(\"D\",76) # If key is already present then it would fetch the value form dictionary and display it.\n",
    "print(y)\n",
    "print(d3)               # Wont update the value of D as 76"
   ]
  },
  {
   "cell_type": "code",
   "execution_count": null,
   "id": "8197251a",
   "metadata": {},
   "outputs": [],
   "source": []
  }
 ],
 "metadata": {
  "kernelspec": {
   "display_name": "Python 3 (ipykernel)",
   "language": "python",
   "name": "python3"
  },
  "language_info": {
   "codemirror_mode": {
    "name": "ipython",
    "version": 3
   },
   "file_extension": ".py",
   "mimetype": "text/x-python",
   "name": "python",
   "nbconvert_exporter": "python",
   "pygments_lexer": "ipython3",
   "version": "3.9.12"
  }
 },
 "nbformat": 4,
 "nbformat_minor": 5
}

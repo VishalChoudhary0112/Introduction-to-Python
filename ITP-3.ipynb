{
 "cells": [
  {
   "cell_type": "markdown",
   "id": "106e0f42",
   "metadata": {},
   "source": [
    "# Conditional Statement :"
   ]
  },
  {
   "cell_type": "markdown",
   "id": "68e5a4d6",
   "metadata": {},
   "source": [
    "-> If condition :\n",
    "    if <condition>\n",
    "        ______________              [Space given below if is called indentation]\n",
    "        ______________"
   ]
  },
  {
   "cell_type": "code",
   "execution_count": 4,
   "id": "8b5584f8",
   "metadata": {},
   "outputs": [
    {
     "name": "stdout",
     "output_type": "stream",
     "text": [
      "Enter your age :1\n",
      "Not eligible\n",
      "Done checking\n"
     ]
    }
   ],
   "source": [
    "# Example : Check if eligible for vote\n",
    "age=float(input(\"Enter your age :\"))\n",
    "if age>=18:\n",
    "    print(\"Eligible\")\n",
    "else:\n",
    "    print(\"Not eligible\")\n",
    "print(\"Done checking\")"
   ]
  },
  {
   "cell_type": "code",
   "execution_count": 6,
   "id": "71ba24bc",
   "metadata": {},
   "outputs": [
    {
     "name": "stdout",
     "output_type": "stream",
     "text": [
      "Enter marks4\n"
     ]
    },
    {
     "data": {
      "text/plain": [
       "'not eligible'"
      ]
     },
     "execution_count": 6,
     "metadata": {},
     "output_type": "execute_result"
    }
   ],
   "source": [
    "# Example :Check if eligible for exam\n",
    "marks=float(input(\"Enter marks\"))\n",
    "\"eligible\" if marks>=60 else \"not eligible\""
   ]
  },
  {
   "cell_type": "markdown",
   "id": "2e04fde0",
   "metadata": {},
   "source": [
    "-> Nested if else condition:"
   ]
  },
  {
   "cell_type": "code",
   "execution_count": 8,
   "id": "e0a2a8f2",
   "metadata": {},
   "outputs": [
    {
     "name": "stdout",
     "output_type": "stream",
     "text": [
      "Enter your age :-4\n",
      "Invalid input\n"
     ]
    }
   ],
   "source": [
    "# Example :\n",
    "age=float(input(\"Enter your age :\"))\n",
    "if (age>0) and (age<150):\n",
    "    if age>=18:\n",
    "        print(\"Eligible\")\n",
    "    else:\n",
    "        print(\"Not eligible\")\n",
    "else:\n",
    "    print(\"Invalid input\")"
   ]
  },
  {
   "cell_type": "markdown",
   "id": "0634acdd",
   "metadata": {},
   "source": [
    "-> If elif condition :"
   ]
  },
  {
   "cell_type": "code",
   "execution_count": 10,
   "id": "56355b9f",
   "metadata": {},
   "outputs": [
    {
     "name": "stdout",
     "output_type": "stream",
     "text": [
      "Enter your age :180\n",
      "Invalid Input\n"
     ]
    }
   ],
   "source": [
    "# Example :\n",
    "age=float(input(\"Enter your age :\"))\n",
    "if (age<0) or (age>150):\n",
    "    print(\"Invalid Input\")\n",
    "elif age>=18:\n",
    "    print(\"Eligible\")\n",
    "else:\n",
    "    print(\"Not eligible\")"
   ]
  },
  {
   "cell_type": "code",
   "execution_count": 11,
   "id": "9f9e4dd8",
   "metadata": {},
   "outputs": [
    {
     "name": "stdout",
     "output_type": "stream",
     "text": [
      "Enter marks :40\n",
      "C\n"
     ]
    }
   ],
   "source": [
    "# Example :\n",
    "m=int(input(\"Enter marks :\"))\n",
    "if m>45 and m<=50:\n",
    "    print(\"A\")\n",
    "elif m>40 and m<=45:\n",
    "    print(\"B\")\n",
    "elif m>35 and m<=40:\n",
    "    print(\"C\")\n",
    "elif m<=35:\n",
    "    print(\"D\")\n",
    "    "
   ]
  },
  {
   "cell_type": "code",
   "execution_count": 21,
   "id": "fa8bee65",
   "metadata": {},
   "outputs": [
    {
     "name": "stdout",
     "output_type": "stream",
     "text": [
      "<zip object at 0x11164a940>\n",
      "[(10, 1), (12, 2), (18, 3), (19, 4)]\n",
      "((10, 1), (12, 2), (18, 3), (19, 4))\n",
      "{10: 1, 12: 2, 18: 3, 19: 4}\n"
     ]
    }
   ],
   "source": [
    "##                                                ZIP Function :\n",
    "\n",
    "l1=[10,12,18,19]\n",
    "l2=[1,2,3,4]\n",
    "print(zip(l1,l2))\n",
    "print(list(zip(l1,l2)))\n",
    "print(tuple(zip(l1,l2)))\n",
    "print(dict(zip(l1,l2)))   # L1=key and L2=key value"
   ]
  },
  {
   "cell_type": "code",
   "execution_count": 22,
   "id": "665a1f4f",
   "metadata": {},
   "outputs": [
    {
     "name": "stdout",
     "output_type": "stream",
     "text": [
      "<zip object at 0x112f57040>\n",
      "[(1, 5), (2, 6), (3, 7), (4, 8)]\n",
      "((1, 5), (2, 6), (3, 7), (4, 8))\n",
      "{1: 5, 2: 6, 3: 7, 4: 8}\n"
     ]
    }
   ],
   "source": [
    "# If length of list are not same then it would consider list with smaller lenght.\n",
    "\n",
    "l3=[1,2,3,4]\n",
    "l4=[5,6,7,8,9]\n",
    "print(zip(l3,l4))\n",
    "print(list(zip(l3,l4)))\n",
    "print(tuple(zip(l3,l4)))\n",
    "print(dict(zip(l3,l4)))"
   ]
  },
  {
   "cell_type": "code",
   "execution_count": 31,
   "id": "aaca8207",
   "metadata": {},
   "outputs": [],
   "source": [
    "# It is iterator means can be used only for once then it get destroyed.\n",
    "# Zip does not have any type.. (i.e type(zip) print nothing in o/p)"
   ]
  },
  {
   "cell_type": "code",
   "execution_count": 37,
   "id": "81311342",
   "metadata": {},
   "outputs": [
    {
     "name": "stdout",
     "output_type": "stream",
     "text": [
      "range(0, 10)\n",
      "[0, 1, 2, 3, 4, 5, 6, 7, 8, 9]\n",
      "[5, 7, 9]\n"
     ]
    }
   ],
   "source": [
    "##                                                RANGE :\n",
    "\n",
    "# Range is iterator.\n",
    "print(range(10))\n",
    "\n",
    "a=range(10)\n",
    "l1=list(a)   # List formed is iterable\n",
    "print(l1)\n",
    "\n",
    "b=range(5,10,2)   # float cannot be used in range\n",
    "l2=list(b)\n",
    "print(l2)"
   ]
  },
  {
   "cell_type": "code",
   "execution_count": 43,
   "id": "3cffc28b",
   "metadata": {},
   "outputs": [
    {
     "name": "stdout",
     "output_type": "stream",
     "text": [
      "<enumerate object at 0x112f56340>\n",
      "[(0, 10), (1, 11), (2, 12), (3, 32)]\n",
      "((0, 10), (1, 11), (2, 12), (3, 32))\n",
      "{0: 10, 1: 11, 2: 12, 3: 32}\n"
     ]
    }
   ],
   "source": [
    "##                                              ENUMERATE :\n",
    "\n",
    "# Enumerate is iterator.\n",
    "l1=[10,11,12,32]\n",
    "print(enumerate(l1))\n",
    "print(list(enumerate(l1)))\n",
    "print(tuple(enumerate(l1)))\n",
    "print(dict(enumerate(l1)))"
   ]
  },
  {
   "cell_type": "code",
   "execution_count": 46,
   "id": "171939ad",
   "metadata": {},
   "outputs": [
    {
     "name": "stdout",
     "output_type": "stream",
     "text": [
      "[(0, 10), (1, 11), (2, 12), (3, 32)]\n",
      "[]\n"
     ]
    }
   ],
   "source": [
    "a=enumerate(l1)\n",
    "print(list(a))\n",
    "print(list(a))  # Can be used only once as its iterator."
   ]
  },
  {
   "cell_type": "code",
   "execution_count": 54,
   "id": "b895ff37",
   "metadata": {},
   "outputs": [
    {
     "name": "stdout",
     "output_type": "stream",
     "text": [
      "False\n",
      "True\n",
      "True\n"
     ]
    }
   ],
   "source": [
    "##                                             ISINSTANCE :\n",
    "\n",
    "a=10\n",
    "print(isinstance(a,str))\n",
    "print(isinstance(a,int))\n",
    "print(isinstance(a,(int,str)))    # works as OR operator and check object is integer or string."
   ]
  },
  {
   "cell_type": "markdown",
   "id": "af31860b",
   "metadata": {},
   "source": [
    "# FOR LOOP :"
   ]
  },
  {
   "cell_type": "code",
   "execution_count": 1,
   "id": "def30b0f",
   "metadata": {},
   "outputs": [
    {
     "name": "stdout",
     "output_type": "stream",
     "text": [
      "[5, 12, 21, 32]\n"
     ]
    }
   ],
   "source": [
    "## Program to multiply two uneven list using min and zip function :\n",
    "\n",
    "\n",
    "#Using min function :\n",
    "l1=[1,2,3,4,5]\n",
    "l2=[5,6,7,8]\n",
    "l3=[]\n",
    "for i in range (min(len(l1),len(l2))):        ## When list have different lenght\n",
    "    l3.append(l1[i]*l2[i])\n",
    "print(l3)"
   ]
  },
  {
   "cell_type": "code",
   "execution_count": 57,
   "id": "3ab276aa",
   "metadata": {},
   "outputs": [
    {
     "name": "stdout",
     "output_type": "stream",
     "text": [
      "1\n",
      "[2, 3, 4, 5]\n"
     ]
    }
   ],
   "source": [
    "a,*b=[1,2,3,4,5]\n",
    "print(a)\n",
    "print(b)"
   ]
  },
  {
   "cell_type": "code",
   "execution_count": 61,
   "id": "26a4afe0",
   "metadata": {},
   "outputs": [
    {
     "name": "stdout",
     "output_type": "stream",
     "text": [
      "1 5\n",
      "2 6\n",
      "3 7\n",
      "4 8\n"
     ]
    }
   ],
   "source": [
    "l1=[1,2,3,4,5]\n",
    "l2=[5,6,7,8]\n",
    "l3=list(zip(l1,l2))\n",
    "for i,j in l3:\n",
    "    print(i,j)"
   ]
  },
  {
   "cell_type": "code",
   "execution_count": 62,
   "id": "71607ffa",
   "metadata": {},
   "outputs": [
    {
     "name": "stdout",
     "output_type": "stream",
     "text": [
      "5\n",
      "12\n",
      "21\n",
      "32\n"
     ]
    }
   ],
   "source": [
    "# Using ZIP function :\n",
    "l1=[1,2,3,4,5]\n",
    "l2=[5,6,7,8]\n",
    "for i,j in zip(l1,l2):\n",
    "    print(i*j)"
   ]
  },
  {
   "cell_type": "code",
   "execution_count": 63,
   "id": "4e0d95d3",
   "metadata": {},
   "outputs": [
    {
     "name": "stdout",
     "output_type": "stream",
     "text": [
      "Even [2, 4, 6]\n",
      "Odd [1, 3, 5, 7]\n"
     ]
    }
   ],
   "source": [
    "# Create two list of even and odd list of a given list :\n",
    "    \n",
    "l1=[1,2,3,4,5,6,7]\n",
    "ev=[]\n",
    "od=[]\n",
    "for i in l1:\n",
    "    if i%2==0:\n",
    "        ev.append(i)\n",
    "    else:\n",
    "        od.append(i)\n",
    "print(\"Even :\",ev)\n",
    "print(\"Odd :\",od)"
   ]
  },
  {
   "cell_type": "code",
   "execution_count": 64,
   "id": "f9ee7fe5",
   "metadata": {},
   "outputs": [
    {
     "name": "stdout",
     "output_type": "stream",
     "text": [
      "Digit : [10, 12, 13]\n",
      "Letter : ['A', 'c']\n"
     ]
    }
   ],
   "source": [
    "# Check if digit or letter :\n",
    "l1=[10,\"A\",12,\"c\",13]\n",
    "d=[]\n",
    "a=[]\n",
    "for i in l1:\n",
    "    if isinstance(i,int):\n",
    "        d.append(i)\n",
    "    else:\n",
    "        a.append(i)\n",
    "print(\"Digit :\",d)\n",
    "print(\"Letter :\",a)\n",
    "        "
   ]
  },
  {
   "cell_type": "code",
   "execution_count": 65,
   "id": "25669787",
   "metadata": {},
   "outputs": [
    {
     "data": {
      "text/plain": [
       "[[5, 10, 15, 20, 25, 30, 35, 40, 45, 50],\n",
       " [6, 12, 18, 24, 30, 36, 42, 48, 54, 60],\n",
       " [7, 14, 21, 28, 35, 42, 49, 56, 63, 70],\n",
       " [8, 16, 24, 32, 40, 48, 56, 64, 72, 80],\n",
       " [9, 18, 27, 36, 45, 54, 63, 72, 81, 90],\n",
       " [10, 20, 30, 40, 50, 60, 70, 80, 90, 100]]"
      ]
     },
     "execution_count": 65,
     "metadata": {},
     "output_type": "execute_result"
    }
   ],
   "source": [
    "## Table of 5 to 10\n",
    "table=[]\n",
    "for i in range(5,11):\n",
    "    temp=[]\n",
    "    for j in range(1,11):\n",
    "        temp.append(i*j)\n",
    "    table.append(temp)\n",
    "table"
   ]
  },
  {
   "cell_type": "markdown",
   "id": "a5b2f598",
   "metadata": {},
   "source": [
    "# While Loop:"
   ]
  },
  {
   "cell_type": "code",
   "execution_count": 2,
   "id": "3ebc75ea",
   "metadata": {},
   "outputs": [
    {
     "name": "stdout",
     "output_type": "stream",
     "text": [
      "You want to enter item (Y/N):y\n",
      "Enter item name:b\n",
      "You want to enter item (Y/N):n\n",
      "['b']\n"
     ]
    }
   ],
   "source": [
    "# Run until condition is true:\n",
    "\n",
    "y=input(\"You want to enter item (Y/N):\").lower()    # .lower() will convert captial Y to lower in entered\n",
    "itt=[]  \n",
    "while y==\"y\":\n",
    "    j=input(\"Enter item name:\")\n",
    "    y=input(\"You want to enter item (Y/N):\")\n",
    "    itt.append(j)\n",
    "print(itt)"
   ]
  },
  {
   "cell_type": "code",
   "execution_count": 78,
   "id": "384483e8",
   "metadata": {},
   "outputs": [
    {
     "name": "stdout",
     "output_type": "stream",
     "text": [
      "You want to enter item (Y/N):y\n",
      "Enter item name:sads\n",
      "You want to enter item (Y/N):n\n",
      "['sads']\n"
     ]
    }
   ],
   "source": [
    "itt=[]\n",
    "while True:\n",
    "    y=input(\"You want to enter item (Y/N):\")\n",
    "    if y==\"y\":\n",
    "        j=input(\"Enter item name:\")\n",
    "        itt.append(j)\n",
    "    else:\n",
    "        break\n",
    "print(itt)"
   ]
  },
  {
   "cell_type": "code",
   "execution_count": 4,
   "id": "7cbba2e1",
   "metadata": {},
   "outputs": [
    {
     "name": "stdout",
     "output_type": "stream",
     "text": [
      "1\n",
      "2\n",
      "3\n",
      "4\n",
      "5\n",
      "6\n"
     ]
    }
   ],
   "source": [
    "l1=[[1,2],[3,4],[5,6]]\n",
    "for i in l1:                                #i takes the inner list\n",
    "    for j in i:                             #j takes the element of a list\n",
    "        print(j)\n",
    "        "
   ]
  },
  {
   "cell_type": "code",
   "execution_count": 3,
   "id": "823d6dba",
   "metadata": {},
   "outputs": [
    {
     "data": {
      "text/plain": [
       "[1, 2, 3, 4, 5, 6]"
      ]
     },
     "execution_count": 3,
     "metadata": {},
     "output_type": "execute_result"
    }
   ],
   "source": [
    "[j for i in l1 for j in i]"
   ]
  },
  {
   "cell_type": "markdown",
   "id": "392ec359",
   "metadata": {},
   "source": [
    "# DICTIONARY COMPREHENSION :"
   ]
  },
  {
   "cell_type": "code",
   "execution_count": 13,
   "id": "4a488f9c",
   "metadata": {},
   "outputs": [
    {
     "name": "stdout",
     "output_type": "stream",
     "text": [
      "{1: 1, 2: 4, 3: 9, 4: 16, 5: 25, 6: 36, 7: 49, 8: 64, 9: 81, 10: 100}\n",
      "{2: 4, 4: 16, 6: 36, 8: 64, 10: 100}\n",
      "{1: 'odd', 2: 'even', 3: 'odd', 4: 'even', 5: 'odd', 6: 'even', 7: 'odd', 8: 'even', 9: 'odd', 10: 'even'}\n",
      "{64, 1, 512, 8, 1000, 343, 216, 729, 27, 125}\n"
     ]
    },
    {
     "data": {
      "text/plain": [
       "set"
      ]
     },
     "execution_count": 13,
     "metadata": {},
     "output_type": "execute_result"
    }
   ],
   "source": [
    "## Example : print square of number (even)\n",
    "a={i:i**2 for i in range(1,11) }\n",
    "print(a)\n",
    "\n",
    "b={i:i**2 for i in range(1,11) if i%2==0 }\n",
    "print(b)\n",
    "\n",
    "c={i:\"even\" if i%2==0 else \"odd\" for i in range(1,11)}\n",
    "print(c)\n",
    "\n",
    "s={i**3 for i in range(1,11)}          ##Set\n",
    "print(s)\n",
    "type(s)"
   ]
  },
  {
   "cell_type": "code",
   "execution_count": 1,
   "id": "77c9b3a9",
   "metadata": {},
   "outputs": [
    {
     "name": "stdout",
     "output_type": "stream",
     "text": [
      "<generator object <genexpr> at 0x104c41970>\n",
      "()\n",
      "()\n"
     ]
    }
   ],
   "source": [
    "## Tupple :\n",
    "t=(i**3 for i in range(1,11))\n",
    "print(t)\n",
    "t1=tuple(t)\n",
    "t1                     ## can be stored in a variable to use again\n",
    "print(tuple(t))        ## We get generator as o/p which are iterator (can be used only once)\n",
    "print(tuple(t))        ## no output\n"
   ]
  },
  {
   "cell_type": "code",
   "execution_count": null,
   "id": "62424a63",
   "metadata": {},
   "outputs": [],
   "source": []
  }
 ],
 "metadata": {
  "kernelspec": {
   "display_name": "Python 3 (ipykernel)",
   "language": "python",
   "name": "python3"
  },
  "language_info": {
   "codemirror_mode": {
    "name": "ipython",
    "version": 3
   },
   "file_extension": ".py",
   "mimetype": "text/x-python",
   "name": "python",
   "nbconvert_exporter": "python",
   "pygments_lexer": "ipython3",
   "version": "3.9.12"
  }
 },
 "nbformat": 4,
 "nbformat_minor": 5
}

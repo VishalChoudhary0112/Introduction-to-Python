{
 "cells": [
  {
   "cell_type": "markdown",
   "id": "24263e63",
   "metadata": {},
   "source": [
    "# FUNCTION :\n",
    "\n",
    "    ->USER DEFINED FUNCTION :\n",
    "         Syntax  :   def <name>(\"Argument\")\n",
    "                        ____________________\n",
    "                        ____________________\n"
   ]
  },
  {
   "cell_type": "code",
   "execution_count": 5,
   "id": "4d6291c3",
   "metadata": {},
   "outputs": [
    {
     "data": {
      "text/plain": [
       "2"
      ]
     },
     "execution_count": 5,
     "metadata": {},
     "output_type": "execute_result"
    }
   ],
   "source": [
    "# Example : Finding minimum of a list.\n",
    "\n",
    "def min_value(x):\n",
    "    m=x[0]\n",
    "    for i in x:\n",
    "        if i<m:\n",
    "            m=i\n",
    "    return m\n",
    "l=[10,10,24,5,53,2,4,44]\n",
    "min_value(l)"
   ]
  },
  {
   "cell_type": "code",
   "execution_count": 11,
   "id": "67d8ab6e",
   "metadata": {},
   "outputs": [
    {
     "name": "stdout",
     "output_type": "stream",
     "text": [
      "Enter number for factor :80\n"
     ]
    },
    {
     "data": {
      "text/plain": [
       "[1, 2, 4, 5, 8, 10, 16, 20, 40]"
      ]
     },
     "execution_count": 11,
     "metadata": {},
     "output_type": "execute_result"
    }
   ],
   "source": [
    " # Example: Finding factor of a number.\n",
    "\n",
    "def factt(x):\n",
    " \n",
    "    '''\n",
    "    A function to find the factors of a  numberx.\n",
    "    Argument - int\n",
    "    Return- a list of the factors ofx.\n",
    "    ''' \n",
    "   \n",
    "    l=[]\n",
    "    for i in range(1,x):\n",
    "        if x%i==0:\n",
    "            l.append(i)\n",
    "    return l\n",
    "\n",
    "num=int(input(\"Enter number for factor :\"))\n",
    "factt(num)"
   ]
  },
  {
   "cell_type": "markdown",
   "id": "310e84e4",
   "metadata": {},
   "source": [
    "    Type of Arguments :\n",
    "        1. no argument\n",
    "        2. positional arg\n",
    "        3. keyword\n",
    "        4. default\n",
    "        5. variable lenght\n",
    "        6. keyword variable lenght arg"
   ]
  },
  {
   "cell_type": "code",
   "execution_count": 13,
   "id": "19fe7d20",
   "metadata": {},
   "outputs": [
    {
     "data": {
      "text/plain": [
       "'GOOD MORNING'"
      ]
     },
     "execution_count": 13,
     "metadata": {},
     "output_type": "execute_result"
    }
   ],
   "source": [
    "## 1.     Function with no argument :\n",
    "\n",
    "def greet():\n",
    "    return \"GOOD MORNING\"\n",
    "greet()"
   ]
  },
  {
   "cell_type": "code",
   "execution_count": null,
   "id": "dd12df83",
   "metadata": {},
   "outputs": [],
   "source": []
  },
  {
   "cell_type": "code",
   "execution_count": 21,
   "id": "e5630bdb",
   "metadata": {},
   "outputs": [
    {
     "name": "stdout",
     "output_type": "stream",
     "text": [
      "Item name is Shoe and price is 1500\n",
      "Item name is 1500 and price is Shoe\n",
      "Item name is Shoe and price is 1500\n"
     ]
    }
   ],
   "source": [
    "## 2.     Function with positional argument :\n",
    "\n",
    "def getDetails(item,price):\n",
    "    return f\"Item name is {item} and price is {price}\"\n",
    "\n",
    "print(getDetails(\"Shoe\",1500))\n",
    "print(getDetails(1500,\"Shoe\"))    ## will reverse the output\n"
   ]
  },
  {
   "cell_type": "code",
   "execution_count": 24,
   "id": "4c14e543",
   "metadata": {},
   "outputs": [
    {
     "name": "stdout",
     "output_type": "stream",
     "text": [
      "Item name is Shoe and price is 1500\n",
      "Item name is Shoe and price is 1500\n"
     ]
    }
   ],
   "source": [
    "## 3.      Function with keyword :\n",
    "\n",
    "print(getDetails(price=1500,item=\"Shoe\")) ## will solve the above problem (KEYWORD ARGUMENT)\n",
    "\n",
    "#print(getDetails(1500,item=\"Shoe\")) --- will show error that item got multiple values.\n",
    "print(getDetails(\"Shoe\",price=1500)) "
   ]
  },
  {
   "cell_type": "code",
   "execution_count": 28,
   "id": "0a618cb6",
   "metadata": {},
   "outputs": [
    {
     "name": "stdout",
     "output_type": "stream",
     "text": [
      "40000.0\n",
      "37500.0\n"
     ]
    }
   ],
   "source": [
    "## 4.      Function with default :\n",
    "\n",
    "# Apply 20% discount of all the items\n",
    "def getDiscounted(price,discount=0.2):       ## \"discount=0.2\" is optional [ No need to specify] also a keyword arg.\n",
    "    new_price=price-(price*discount)\n",
    "    return new_price\n",
    "\n",
    "print(getDiscounted(50000))\n",
    "print(getDiscounted(50000,0.25))  ## Changed default value of discount for this instance only[Wont change permenantly]"
   ]
  },
  {
   "cell_type": "code",
   "execution_count": 30,
   "id": "90f1e61d",
   "metadata": {},
   "outputs": [
    {
     "data": {
      "text/plain": [
       "(3, 3)"
      ]
     },
     "execution_count": 30,
     "metadata": {},
     "output_type": "execute_result"
    }
   ],
   "source": [
    "## 5.       Function with variable length :\n",
    "\n",
    "#Number of student who have cleared exam\n",
    "\n",
    "def getCount(*args):          #any name starting with \"*____\" can be used\n",
    "    c_p=0\n",
    "    c_f=0\n",
    "    for m in args:\n",
    "        if m>=30:\n",
    "            c_p+=1\n",
    "        else:\n",
    "            c_f+=1\n",
    "    return c_p,c_f\n",
    "\n",
    "getCount(30,24,35,23,52,12)"
   ]
  },
  {
   "cell_type": "code",
   "execution_count": 33,
   "id": "9c2ff38a",
   "metadata": {},
   "outputs": [
    {
     "name": "stdout",
     "output_type": "stream",
     "text": [
      "{'a': 12, 'b': 32, 'c': 45, 'd': 54, 'e': 65}\n",
      "{'A': 10, 'B': 20, 'C': 30, 'D': 40}\n"
     ]
    }
   ],
   "source": [
    "## 6.       Function with keyword variable length arg :\n",
    "\n",
    "# Unpacking the dictionary or concatenating :\n",
    "d1={\"a\":12,\"b\":32,\"c\":45}\n",
    "d2={\"d\":54,\"e\":65}\n",
    "d3={**d1,**d2}\n",
    "print(d3)\n",
    "\n",
    "\n",
    "def kVarFunc(**kargs):\n",
    "    return kargs\n",
    "print(kVarFunc(A=10,B=20,C=30,D=40))"
   ]
  },
  {
   "cell_type": "code",
   "execution_count": 6,
   "id": "03e889e1",
   "metadata": {},
   "outputs": [
    {
     "data": {
      "text/plain": [
       "({'A': 32, 'C': 55, 'D': 40}, {'B': 20})"
      ]
     },
     "execution_count": 6,
     "metadata": {},
     "output_type": "execute_result"
    }
   ],
   "source": [
    "def getCount(**kargs):          \n",
    "    c_p={}\n",
    "    c_f={}\n",
    "    for n,m in kargs.items():\n",
    "        if m>=30:\n",
    "            c_p[n]=m\n",
    "        else:\n",
    "            c_f[n]=m\n",
    "    return c_p,c_f\n",
    "\n",
    "getCount(A=32,B=20,C=55,D=40)"
   ]
  },
  {
   "cell_type": "code",
   "execution_count": 10,
   "id": "17ebad17",
   "metadata": {},
   "outputs": [
    {
     "name": "stdout",
     "output_type": "stream",
     "text": [
      "dict_items([('A', 10), ('B', 20), ('C', 30), ('D', 40)])\n",
      "{'B': 20, 'C': 30, 'D': 40}\n"
     ]
    }
   ],
   "source": [
    "# Print only those value greater than 15 :\n",
    "d4={\"A\":10,\"B\":20,\"C\":30,\"D\":40}\n",
    "print(d4.items())\n",
    "\n",
    "d={}\n",
    "for i,j in d4.items():\n",
    "    if j>15:\n",
    "        d[i]=j\n",
    "    else:\n",
    "        continue\n",
    "print(d)"
   ]
  },
  {
   "cell_type": "markdown",
   "id": "3d90dda4",
   "metadata": {},
   "source": [
    " ___________________________________________________________________________________________________________________   \n",
    "    Types of variable :\n",
    "        1.Global : Can be used anywhere in proram.\n",
    "        2.Local : Those variable used inside a function and cannot be used outside of the function.\n",
    "        3.Built ins : Already present in python like \"pi\"\n",
    "        4.Enclosed"
   ]
  },
  {
   "cell_type": "code",
   "execution_count": 1,
   "id": "c05e94f9",
   "metadata": {},
   "outputs": [
    {
     "data": {
      "text/plain": [
       "15"
      ]
     },
     "execution_count": 1,
     "metadata": {},
     "output_type": "execute_result"
    }
   ],
   "source": [
    "a=10                # GLOBAL VARIABLE\n",
    "\n",
    "def func():\n",
    "    new_val=a+5     # LOCAL VARIABLE\n",
    "    return new_val\n",
    "func()"
   ]
  },
  {
   "cell_type": "markdown",
   "id": "914261b9",
   "metadata": {},
   "source": [
    "    a=10  # GlOBAL VARIABLE\n",
    "\n",
    "    def func():\n",
    "        a+=5        # Thinks 'a' as local variable\n",
    "        return a\n",
    "    func()"
   ]
  },
  {
   "cell_type": "code",
   "execution_count": 3,
   "id": "b436aa15",
   "metadata": {},
   "outputs": [
    {
     "data": {
      "text/plain": [
       "15"
      ]
     },
     "execution_count": 3,
     "metadata": {},
     "output_type": "execute_result"
    }
   ],
   "source": [
    "a=10  # GlOBAL VARIABLE\n",
    " \n",
    "def func():\n",
    "    global a     # TO overcome above problem use this to make 'a' as global variable and value of a also get updated.\n",
    "    a+=5        \n",
    "    return a\n",
    "func()"
   ]
  },
  {
   "cell_type": "code",
   "execution_count": 6,
   "id": "52d59719",
   "metadata": {},
   "outputs": [
    {
     "data": {
      "text/plain": [
       "3.141592653589793"
      ]
     },
     "execution_count": 6,
     "metadata": {},
     "output_type": "execute_result"
    }
   ],
   "source": [
    "import math\n",
    "math.pi  ##Built ins   #module: python file name(ex: math)"
   ]
  },
  {
   "cell_type": "code",
   "execution_count": 3,
   "id": "aea0e4d5",
   "metadata": {},
   "outputs": [
    {
     "data": {
      "text/plain": [
       "20"
      ]
     },
     "execution_count": 3,
     "metadata": {},
     "output_type": "execute_result"
    }
   ],
   "source": [
    "# ENCLOSED :\n",
    "\n",
    "def outer():\n",
    "    a=10\n",
    "    \n",
    "    def inner():\n",
    "        return a+10\n",
    "    return inner()\n",
    "outer()"
   ]
  },
  {
   "cell_type": "markdown",
   "id": "f2d85991",
   "metadata": {},
   "source": [
    "def outer():\n",
    "    a=10\n",
    "    \n",
    "    def inner():\n",
    "        a+=10        # Will give error\n",
    "        return a\n",
    "    return inner()\n",
    "outer()\n",
    "\n",
    "def outer():\n",
    "    z=10\n",
    "    \n",
    "    def inner():\n",
    "        global z    # Will give error\n",
    "        z+=10\n",
    "        return z\n",
    "    return inner()\n",
    "outer()"
   ]
  },
  {
   "cell_type": "code",
   "execution_count": 6,
   "id": "1c370a34",
   "metadata": {},
   "outputs": [
    {
     "data": {
      "text/plain": [
       "20"
      ]
     },
     "execution_count": 6,
     "metadata": {},
     "output_type": "execute_result"
    }
   ],
   "source": [
    "def outer():\n",
    "    z=10\n",
    "    \n",
    "    def inner():\n",
    "        nonlocal z  #enclosed variable\n",
    "        z+=10\n",
    "        return z\n",
    "    return inner()\n",
    "outer()"
   ]
  },
  {
   "cell_type": "code",
   "execution_count": 14,
   "id": "ca9a4978",
   "metadata": {},
   "outputs": [
    {
     "name": "stdout",
     "output_type": "stream",
     "text": [
      "1\n",
      "2\n",
      "4\n",
      "5\n",
      "8\n",
      "10\n",
      "20\n",
      "25\n",
      "40\n",
      "50\n",
      "100\n"
     ]
    }
   ],
   "source": [
    "def facto(x,c=1):\n",
    "    if c==x:\n",
    "        return \n",
    "    else:\n",
    "        if x%c==0:\n",
    "            print(c)\n",
    "        return facto(x,c+1)\n",
    "facto(200)\n",
    "    "
   ]
  },
  {
   "cell_type": "markdown",
   "id": "631ef1c2",
   "metadata": {},
   "source": [
    "# RECURSIVE FUNCTION :"
   ]
  },
  {
   "cell_type": "code",
   "execution_count": 8,
   "id": "70afb409",
   "metadata": {},
   "outputs": [
    {
     "data": {
      "text/plain": [
       "0"
      ]
     },
     "execution_count": 8,
     "metadata": {},
     "output_type": "execute_result"
    }
   ],
   "source": [
    "def func(x):\n",
    "    for i in range(x):\n",
    "        return i    ## Return only returns one value\n",
    "func(5)"
   ]
  },
  {
   "cell_type": "code",
   "execution_count": 5,
   "id": "25dfb8e5",
   "metadata": {},
   "outputs": [
    {
     "data": {
      "text/plain": [
       "120"
      ]
     },
     "execution_count": 5,
     "metadata": {},
     "output_type": "execute_result"
    }
   ],
   "source": [
    "# Program for factorial of number :\n",
    "\n",
    "def factorial(x):\n",
    "    if x==0: ## if x==0 act as stopping part of function.if not prsent infinity loop will run and stop at 3000(System limit)\n",
    "        return 1\n",
    "    else:\n",
    "        return (x*factorial(x-1))\n",
    "factorial(5)"
   ]
  },
  {
   "cell_type": "code",
   "execution_count": 14,
   "id": "27e55fae",
   "metadata": {},
   "outputs": [
    {
     "data": {
      "text/plain": [
       "3000"
      ]
     },
     "execution_count": 14,
     "metadata": {},
     "output_type": "execute_result"
    }
   ],
   "source": [
    "import sys\n",
    "sys.getrecursionlimit()        ## it can be changed using sys.setrecursionlimit(5000)"
   ]
  },
  {
   "cell_type": "code",
   "execution_count": 2,
   "id": "f21896ec",
   "metadata": {},
   "outputs": [
    {
     "data": {
      "text/plain": [
       "3"
      ]
     },
     "execution_count": 2,
     "metadata": {},
     "output_type": "execute_result"
    }
   ],
   "source": [
    "## Program to print sum of N number :\n",
    "\n",
    "def sumM(x):\n",
    "    if x==0:\n",
    "        return 0\n",
    "    else:\n",
    "        return x+sumM(x-1)\n",
    "sumM(2)"
   ]
  },
  {
   "cell_type": "markdown",
   "id": "43a75e06",
   "metadata": {},
   "source": [
    "# LAMBDA FUNCTION :"
   ]
  },
  {
   "cell_type": "markdown",
   "id": "3c2a81f0",
   "metadata": {},
   "source": [
    "    Syntax: \n",
    "             lambda x,y:          # x,y - Variable name\n",
    "\n",
    "\n",
    "    Example: Sum of X and Y\n",
    "\n",
    "             lambda x,y: x+y\n",
    "             \n",
    "             \n",
    "    Mostly used with MAP , FILTER, REDUCE and ACCUMULATE."
   ]
  },
  {
   "cell_type": "code",
   "execution_count": 17,
   "id": "ad65a045",
   "metadata": {},
   "outputs": [
    {
     "data": {
      "text/plain": [
       "30"
      ]
     },
     "execution_count": 17,
     "metadata": {},
     "output_type": "execute_result"
    }
   ],
   "source": [
    "# Program to get addition.\n",
    "s= lambda x,y : x+y\n",
    "s(10,20)                 # return value of s."
   ]
  },
  {
   "cell_type": "code",
   "execution_count": 18,
   "id": "fafaad3d",
   "metadata": {},
   "outputs": [
    {
     "data": {
      "text/plain": [
       "20"
      ]
     },
     "execution_count": 18,
     "metadata": {},
     "output_type": "execute_result"
    }
   ],
   "source": [
    "# Program to find greater.\n",
    "highest= lambda x,y : x if x>y else y\n",
    "highest(10,20)"
   ]
  },
  {
   "cell_type": "code",
   "execution_count": 22,
   "id": "e97626f8",
   "metadata": {},
   "outputs": [
    {
     "data": {
      "text/plain": [
       "3"
      ]
     },
     "execution_count": 22,
     "metadata": {},
     "output_type": "execute_result"
    }
   ],
   "source": [
    "# Program to find highest among 3:\n",
    "highest_2= lambda x,y,z : x if x>y and x>z else y if y>z and y>x else z\n",
    "highest_2(1,3,2)"
   ]
  },
  {
   "cell_type": "markdown",
   "id": "e948d4df",
   "metadata": {},
   "source": [
    "# MAP FUNCTION :\n",
    "\n",
    "    -> Works only on iterable data type.\n",
    "\n",
    "    Syntax : map(function_name,iterable,---------)"
   ]
  },
  {
   "cell_type": "code",
   "execution_count": 2,
   "id": "37a4f091",
   "metadata": {},
   "outputs": [
    {
     "data": {
      "text/plain": [
       "['even', 'odd', 'even', 'odd', 'even', 'odd', 'even', 'odd']"
      ]
     },
     "execution_count": 2,
     "metadata": {},
     "output_type": "execute_result"
    }
   ],
   "source": [
    "# Program to find odd or even :\n",
    "\n",
    "l1=[10,11,12,13,14,15,16,17]\n",
    "list(map(lambda x:\"even\" if x%2==0 else \"odd\",l1))"
   ]
  },
  {
   "cell_type": "code",
   "execution_count": 26,
   "id": "d107fdfd",
   "metadata": {},
   "outputs": [
    {
     "data": {
      "text/plain": [
       "['even', 'odd', 'even', 'odd', 'even', 'odd', 'even', 'odd']"
      ]
     },
     "execution_count": 26,
     "metadata": {},
     "output_type": "execute_result"
    }
   ],
   "source": [
    "def eo(x):\n",
    "    if x%2==0:\n",
    "        return(\"even\")\n",
    "    else:\n",
    "        return(\"odd\")\n",
    "list(map(eo,l1))       ## Dont use eo() as it passes at function.It is used as argument here."
   ]
  },
  {
   "cell_type": "code",
   "execution_count": 27,
   "id": "0a47d9ea",
   "metadata": {},
   "outputs": [
    {
     "data": {
      "text/plain": [
       "(3, 5, 6, 8)"
      ]
     },
     "execution_count": 27,
     "metadata": {},
     "output_type": "execute_result"
    }
   ],
   "source": [
    "# Program to find length of each item in a list.\n",
    "\n",
    "l2=[\"ABC\",\"ABCDE\",\"LMNFDS\",\"JSJDHASD\"]\n",
    "tuple(map(len,l2))"
   ]
  },
  {
   "cell_type": "code",
   "execution_count": 21,
   "id": "f2596c27",
   "metadata": {},
   "outputs": [
    {
     "data": {
      "text/plain": [
       "[58, 147, 187]"
      ]
     },
     "execution_count": 21,
     "metadata": {},
     "output_type": "execute_result"
    }
   ],
   "source": [
    "#Program to find sum of nested list.\n",
    "\n",
    "l3=[[10,12,17,19],[15,45,87],[55,65,67]]\n",
    "list(map(sum,l3))\n"
   ]
  },
  {
   "cell_type": "code",
   "execution_count": 34,
   "id": "87a9591d",
   "metadata": {},
   "outputs": [
    {
     "name": "stdout",
     "output_type": "stream",
     "text": [
      "{'A': 58, 'B': 147, 'C': 187}\n",
      "(58, 147, 187)\n"
     ]
    }
   ],
   "source": [
    "# Program to find sum from dictionary.\n",
    "\n",
    "d1={\"A\":[10,12,17,19],\n",
    "    \"B\":[15,45,87],\n",
    "    \"C\":[55,65,67]}\n",
    "print(dict(map ( lambda x:(x,sum(d1[x])),d1)))\n",
    "\n",
    "print(tuple(map(lambda x:sum(d1[x]),d1)))"
   ]
  },
  {
   "cell_type": "code",
   "execution_count": 35,
   "id": "a02d95ac",
   "metadata": {},
   "outputs": [
    {
     "data": {
      "text/plain": [
       "{'A': 58, 'B': 147, 'C': 187}"
      ]
     },
     "execution_count": 35,
     "metadata": {},
     "output_type": "execute_result"
    }
   ],
   "source": [
    "l5=[(\"A\",58),(\"B\",147),(\"C\",187)]    ## List with tuple as element having 2 object can be converted to DICTIONARY\n",
    "dict(l5)"
   ]
  },
  {
   "cell_type": "code",
   "execution_count": 36,
   "id": "8d15ff9e",
   "metadata": {},
   "outputs": [
    {
     "data": {
      "text/plain": [
       "{'A': 58, 'B': 147, 'C': 187}"
      ]
     },
     "execution_count": 36,
     "metadata": {},
     "output_type": "execute_result"
    }
   ],
   "source": [
    "l6=l5=((\"A\",58),(\"B\",147),(\"C\",187)) ## Tuple with tuple as element having 2 object can be converted to DICTIONARY\n",
    "dict(l6)"
   ]
  },
  {
   "cell_type": "code",
   "execution_count": 42,
   "id": "14ca4e0c",
   "metadata": {},
   "outputs": [
    {
     "data": {
      "text/plain": [
       "(('A', 58), ('B', 147), ('C', 187))"
      ]
     },
     "execution_count": 42,
     "metadata": {},
     "output_type": "execute_result"
    }
   ],
   "source": [
    "d1={\"A\":[10,12,17,19],\n",
    "    \"B\":[15,45,87],\n",
    "    \"C\":[55,65,67]}\n",
    "tuple(map(lambda x,y:(x,sum(y)),d1.keys(),d1.values()))"
   ]
  },
  {
   "cell_type": "markdown",
   "id": "35f66c73",
   "metadata": {},
   "source": [
    "# FILTER FUNCTION :\n",
    "\n",
    "            Syntax :     filter(function or none,iterable)\n",
    "            \n",
    "            NOTE:-\n",
    "            Function can be lambda,user defined function,build in.\n",
    "            ONLY ONE ITERABLE CAN BE PASSED.\n",
    "            \n",
    "            \n",
    "            MAP will change the value but filter will just filter it out."
   ]
  },
  {
   "cell_type": "code",
   "execution_count": 43,
   "id": "dc1de6b9",
   "metadata": {},
   "outputs": [
    {
     "data": {
      "text/plain": [
       "[0, 2, 4, 6, 8, 10, 12, 14]"
      ]
     },
     "execution_count": 43,
     "metadata": {},
     "output_type": "execute_result"
    }
   ],
   "source": [
    "# Filter out even number :\n",
    "\n",
    "l1=list(range(15))\n",
    "list(filter(lambda x: x%2==0,l1))"
   ]
  },
  {
   "cell_type": "code",
   "execution_count": 44,
   "id": "3e3f93e1",
   "metadata": {},
   "outputs": [
    {
     "data": {
      "text/plain": [
       "['DE', 'a']"
      ]
     },
     "execution_count": 44,
     "metadata": {},
     "output_type": "execute_result"
    }
   ],
   "source": [
    "# Filter out if length less than 3 :\n",
    "\n",
    "l2=[\"ABCD\",\"DE\",\"HIDH\",\"a\"]\n",
    "list(filter(lambda x:len(x)<3,l2))"
   ]
  },
  {
   "cell_type": "markdown",
   "id": "82d789de",
   "metadata": {},
   "source": [
    "# REDUCE FUNCTION :\n",
    "   \n",
    "    Will give single value as output.\n",
    "    Need to import from \"functools\" module."
   ]
  },
  {
   "cell_type": "code",
   "execution_count": 23,
   "id": "0d1a7398",
   "metadata": {},
   "outputs": [
    {
     "data": {
      "text/plain": [
       "15"
      ]
     },
     "execution_count": 23,
     "metadata": {},
     "output_type": "execute_result"
    }
   ],
   "source": [
    "from functools import reduce\n",
    "l1=[1,2,3,4,5]\n",
    "reduce(lambda x,y:x+y,l1)"
   ]
  },
  {
   "cell_type": "markdown",
   "id": "1bcb2f0f",
   "metadata": {},
   "source": [
    "# ACCUMULATE FUNCTION :\n",
    "    Gives intermediate result"
   ]
  },
  {
   "cell_type": "code",
   "execution_count": 25,
   "id": "ffb79d7f",
   "metadata": {},
   "outputs": [
    {
     "data": {
      "text/plain": [
       "[1, 3, 6, 10, 15]"
      ]
     },
     "execution_count": 25,
     "metadata": {},
     "output_type": "execute_result"
    }
   ],
   "source": [
    "from itertools import accumulate\n",
    "list(accumulate(l1,lambda x,y:x+y))"
   ]
  },
  {
   "cell_type": "code",
   "execution_count": 4,
   "id": "99ce8370",
   "metadata": {},
   "outputs": [
    {
     "name": "stdout",
     "output_type": "stream",
     "text": [
      "{1: 1, 2: 4, 3: 9, 4: 16, 5: 25, 6: 36, 7: 49, 8: 64, 9: 81, 10: 100, 11: 121, 12: 144, 13: 169, 14: 196, 15: 225}\n"
     ]
    }
   ],
   "source": [
    "a= {i:i**2 for i in range(1,16)}\n",
    "print(a)"
   ]
  },
  {
   "cell_type": "code",
   "execution_count": 1,
   "id": "1f96a1be",
   "metadata": {},
   "outputs": [
    {
     "name": "stdout",
     "output_type": "stream",
     "text": [
      "12\n",
      "6\n",
      "4\n",
      "3\n",
      "2\n",
      "1\n"
     ]
    }
   ],
   "source": [
    "def factors(x,i):\n",
    "    if i==0:\n",
    "        return\n",
    "    if x%i == 0:\n",
    "        print(i)\n",
    "    return factors (x,i-1) #simpler version of the problem\n",
    "\n",
    "factors(12,12)"
   ]
  },
  {
   "cell_type": "code",
   "execution_count": 15,
   "id": "ae9ce570",
   "metadata": {},
   "outputs": [
    {
     "name": "stdout",
     "output_type": "stream",
     "text": [
      "3\n",
      "5\n"
     ]
    }
   ],
   "source": [
    "def factors(n, m = 2):\n",
    "    if m>=n:\n",
    "        return\n",
    "    if n % m == 0:\n",
    "        print(m)\n",
    "    return factors(n, m + 1)\n",
    "factors(15)"
   ]
  },
  {
   "cell_type": "code",
   "execution_count": 13,
   "id": "56e93ec4",
   "metadata": {},
   "outputs": [
    {
     "name": "stdout",
     "output_type": "stream",
     "text": [
      "2\n",
      "2\n",
      "5\n"
     ]
    }
   ],
   "source": [
    "def prime_factors(n, m = 2):\n",
    "    if m > n:\n",
    "        return\n",
    "    elif n % m == 0:\n",
    "        print(m)\n",
    "        return prime_factors(n // m, m)\n",
    "    else:\n",
    "        return prime_factors(n, m + 1)\n",
    "    \n",
    "prime_factors(20)"
   ]
  },
  {
   "cell_type": "code",
   "execution_count": null,
   "id": "fa93b025",
   "metadata": {},
   "outputs": [],
   "source": [
    "if m>n:\n",
    "    return\n",
    "elif n%m==0:\n",
    "    print(m)\n",
    "    return p(n//m,m)\n",
    "else:\n",
    "    return p(n/m+1)"
   ]
  }
 ],
 "metadata": {
  "kernelspec": {
   "display_name": "Python 3 (ipykernel)",
   "language": "python",
   "name": "python3"
  },
  "language_info": {
   "codemirror_mode": {
    "name": "ipython",
    "version": 3
   },
   "file_extension": ".py",
   "mimetype": "text/x-python",
   "name": "python",
   "nbconvert_exporter": "python",
   "pygments_lexer": "ipython3",
   "version": "3.9.12"
  }
 },
 "nbformat": 4,
 "nbformat_minor": 5
}

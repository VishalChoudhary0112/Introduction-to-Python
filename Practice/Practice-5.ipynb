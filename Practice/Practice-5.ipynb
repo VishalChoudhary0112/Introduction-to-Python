{
 "cells": [
  {
   "cell_type": "markdown",
   "metadata": {
    "id": "JT0CoGOOE1ZX"
   },
   "source": [
    "<table align=\"center\" width=100%>\n",
    "    <tr>\n",
    "        <td width=\"20%\">\n",
    "            <img src=\"GL-2.png\">\n",
    "        </td>\n",
    "        <td>\n",
    "            <div align=\"center\">\n",
    "                <font color=\"#21618C\" size=20px>\n",
    "                    <b> Take-Home <br>(Day 1)\n",
    "                    </b>\n",
    "                </font>\n",
    "            </div>\n",
    "        </td>\n",
    "    </tr>\n",
    "</table>"
   ]
  },
  {
   "cell_type": "markdown",
   "metadata": {
    "id": "UFiu4MNkE1Za"
   },
   "source": [
    "### Let's begin with some hands-on practice exercises"
   ]
  },
  {
   "cell_type": "markdown",
   "metadata": {
    "id": "4FhU3I_eE1Zb"
   },
   "source": [
    "<table align=\"left\">\n",
    "    <tr>\n",
    "        <td width=\"6%\">\n",
    "            <img src=\"question_icon.png\">\n",
    "        </td>\n",
    "        <td>\n",
    "            <div align=\"left\", style=\"font-size:120%\">\n",
    "                <font color=\"#21618C\">\n",
    "                    <b>1. Write a program to convert the value of 'pi' to integer</b>\n",
    "                </font>\n",
    "            </div>\n",
    "        </td>\n",
    "    </tr>\n",
    "</table>\n"
   ]
  },
  {
   "cell_type": "code",
   "execution_count": 2,
   "metadata": {
    "id": "eArI42NXE1Zb",
    "scrolled": true
   },
   "outputs": [
    {
     "name": "stdout",
     "output_type": "stream",
     "text": [
      "Pi value in integer is  3\n"
     ]
    }
   ],
   "source": [
    "import math\n",
    "pi_value= math.pi\n",
    "int_value=int(pi_value)\n",
    "print(\"Pi value in integer is \",int_value)"
   ]
  },
  {
   "cell_type": "markdown",
   "metadata": {
    "id": "Ldc4hou8E1Zc"
   },
   "source": [
    "<table align=\"left\">\n",
    "    <tr>\n",
    "        <td width=\"6%\">\n",
    "            <img src=\"question_icon.png\">\n",
    "        </td>\n",
    "        <td>\n",
    "            <div align=\"left\", style=\"font-size:120%\">\n",
    "                <font color=\"#21618C\">\n",
    "                    <b>2. Find the remainder after dividing 542 by 16</b>\n",
    "                </font>\n",
    "            </div>\n",
    "        </td>\n",
    "    </tr>\n",
    "</table>"
   ]
  },
  {
   "cell_type": "code",
   "execution_count": 3,
   "metadata": {
    "id": "ExaNH730E1Zc"
   },
   "outputs": [
    {
     "name": "stdout",
     "output_type": "stream",
     "text": [
      "Remainder afer dividing 542 by 16 is : 33.875\n"
     ]
    }
   ],
   "source": [
    "print(\"Remainder afer dividing 542 by 16 is :\",542/16)"
   ]
  },
  {
   "cell_type": "markdown",
   "metadata": {
    "id": "6DBoEM2gE1Zd"
   },
   "source": [
    "<table align=\"left\">\n",
    "    <tr>\n",
    "        <td width=\"6%\">\n",
    "            <img src=\"question_icon.png\">\n",
    "        </td>\n",
    "        <td>\n",
    "            <div align=\"left\", style=\"font-size:120%\">\n",
    "                <font color=\"#21618C\">\n",
    "                    <b>3.  Display the following pattern using single print() </b>\n",
    "                </font>\n",
    "            </div>\n",
    "        </td>\n",
    "    </tr>\n",
    "</table>"
   ]
  },
  {
   "cell_type": "markdown",
   "metadata": {
    "id": "lRFyIspYE1Zd"
   },
   "source": [
    "                                *\n",
    "                                **\n",
    "                                ***\n",
    "                                ****"
   ]
  },
  {
   "cell_type": "code",
   "execution_count": 4,
   "metadata": {
    "id": "7PXNuP8tE1Ze"
   },
   "outputs": [
    {
     "name": "stdout",
     "output_type": "stream",
     "text": [
      "* \n",
      "** \n",
      "*** \n",
      "****\n"
     ]
    }
   ],
   "source": [
    "print(\"* \\n** \\n*** \\n****\")"
   ]
  },
  {
   "cell_type": "markdown",
   "metadata": {
    "id": "XkO-ngAmE1Ze"
   },
   "source": [
    "<table align=\"left\">\n",
    "    <tr>\n",
    "        <td width=\"6%\">\n",
    "            <img src=\"question_icon.png\">\n",
    "        </td>\n",
    "        <td>\n",
    "            <div align=\"left\", style=\"font-size:120%\">\n",
    "                <font color=\"#21618C\">\n",
    "                    <b>4. Write a pseudo code to check whether an entered letter is a vowel or not </b>\n",
    "                </font>\n",
    "            </div>\n",
    "        </td>\n",
    "    </tr>\n",
    "</table>"
   ]
  },
  {
   "cell_type": "markdown",
   "metadata": {
    "id": "ZHCtYPysE1Zf"
   },
   "source": [
    "1.Start\n",
    "2.Take letter input from user\n",
    "3.Check if entered letter by user is vowel in both smaller case and upper case\n",
    "    if present then print Vowel\n",
    "    else print Not a vowel\n",
    "4.Stop"
   ]
  },
  {
   "cell_type": "markdown",
   "metadata": {
    "id": "6QDgnMwwE1Zf"
   },
   "source": [
    "<table align=\"left\">\n",
    "    <tr>\n",
    "        <td width=\"6%\">\n",
    "            <img src=\"question_icon.png\">\n",
    "        </td>\n",
    "        <td>\n",
    "            <div align=\"left\", style=\"font-size:120%\">\n",
    "                <font color=\"#21618C\">\n",
    "                    <b>5. Write a program to swap the two integers passed as runtime variables</b>\n",
    "                </font>\n",
    "            </div>\n",
    "        </td>\n",
    "    </tr>\n",
    "</table>\n"
   ]
  },
  {
   "cell_type": "code",
   "execution_count": 24,
   "metadata": {
    "id": "ODAGnmaeE1Zf"
   },
   "outputs": [
    {
     "name": "stdout",
     "output_type": "stream",
     "text": [
      "Enter 1st integer :5\n",
      "Enter 2nd integer :10\n",
      "Swapped value of 1st : 10\n",
      "Swapped value of 2nd : 5\n"
     ]
    }
   ],
   "source": [
    "u1=int(input(\"Enter 1st integer :\"))\n",
    "u2=int(input('Enter 2nd integer :'))\n",
    "temp=u1\n",
    "u1=u2\n",
    "u2=temp\n",
    "print(\"Swapped value of 1st :\",u1)\n",
    "print(\"Swapped value of 2nd :\",u2)"
   ]
  },
  {
   "cell_type": "markdown",
   "metadata": {
    "id": "FEQEQ-YJE1Zf"
   },
   "source": [
    "<table align=\"left\">\n",
    "    <tr>\n",
    "        <td width=\"6%\">\n",
    "            <img src=\"question_icon.png\">\n",
    "        </td>\n",
    "        <td>\n",
    "            <div align=\"left\", style=\"font-size:120%\">\n",
    "                <font color=\"#21618C\">\n",
    "                    <b>6. Write a program to print the product of two numbers 'x' and 'y' </b>\n",
    "                    <br><br>\n",
    "                    <b> x = 10 ; y = \"15\"  </b>\n",
    "                </font>\n",
    "            </div>\n",
    "        </td>\n",
    "    </tr>\n",
    "</table>"
   ]
  },
  {
   "cell_type": "code",
   "execution_count": 12,
   "metadata": {
    "id": "vdVCjxy5E1Zg"
   },
   "outputs": [
    {
     "name": "stdout",
     "output_type": "stream",
     "text": [
      "Product is : 150\n"
     ]
    }
   ],
   "source": [
    "x=10\n",
    "y=15\n",
    "print(\"Product is :\",10*15)"
   ]
  },
  {
   "cell_type": "markdown",
   "metadata": {
    "id": "iKo6Yk-BE1Zg"
   },
   "source": [
    "<table align=\"left\">\n",
    "    <tr>\n",
    "        <td width=\"6%\">\n",
    "            <img src=\"question_icon.png\">\n",
    "        </td>\n",
    "        <td>\n",
    "            <div align=\"left\", style=\"font-size:120%\">\n",
    "                <font color=\"#21618C\">\n",
    "                    <b> 7. Write a pseudo code to check whether input is even number or odd number (take input from user)</b>\n",
    "                </font>\n",
    "            </div>\n",
    "        </td>\n",
    "    </tr>\n",
    "</table>"
   ]
  },
  {
   "cell_type": "markdown",
   "metadata": {
    "id": "5b17jSV5E1Zg"
   },
   "source": [
    "1. Start.\n",
    "2. Take numerical input from user. \n",
    "3. Check if entered number divided by 2 reminder is equal to zero.\n",
    "         If equal than Print number is even.\n",
    "         else,Print number is odd.\n",
    "4. Stop."
   ]
  },
  {
   "cell_type": "markdown",
   "metadata": {
    "id": "QXRuBaQHE1Zh"
   },
   "source": [
    "<table align=\"left\">\n",
    "    <tr>\n",
    "        <td width=\"6%\">\n",
    "            <img src=\"question_icon.png\">\n",
    "        </td>\n",
    "        <td>\n",
    "            <div align=\"left\", style=\"font-size:120%\">\n",
    "                <font color=\"#21618C\">\n",
    "                    <b>8. Write a pseudo code to print whether a number is divisible by 9 and a multiple of 6 (take input from the user)</b>\n",
    "                </font>\n",
    "            </div>\n",
    "        </td>\n",
    "    </tr>\n",
    "</table>"
   ]
  },
  {
   "cell_type": "markdown",
   "metadata": {
    "id": "Jy8ebQI8E1Zh"
   },
   "source": [
    "1. Start\n",
    "2. Take numerical input from user\n",
    "3. Check if number divided by 9 and 6 both are equal to zero\n",
    "        If equal then print Divisible by both\n",
    "        else, print Not divisible by both\n",
    "4. Stop"
   ]
  },
  {
   "cell_type": "markdown",
   "metadata": {
    "id": "giz6ztDsE1Zh"
   },
   "source": [
    "<table align=\"left\">\n",
    "    <tr>\n",
    "        <td width=\"6%\">\n",
    "            <img src=\"question_icon.png\">\n",
    "        </td>\n",
    "        <td>\n",
    "            <div align=\"left\", style=\"font-size:120%\">\n",
    "                <font color=\"#21618C\">\n",
    "                    <b>9. Write a pseudo to take 5 values from user and print their average using while loop (take input from user)</b>\n",
    "                </font>\n",
    "            </div>\n",
    "        </td>\n",
    "    </tr>\n",
    "</table>"
   ]
  },
  {
   "cell_type": "markdown",
   "metadata": {
    "id": "ipcX1TPdE1Zh"
   },
   "source": [
    "1. Start\n",
    "2. Take a variable x for running loop and set value to zero\n",
    "   Take a variable summ for average calculation and set value to zero\n",
    "3. Run a while loop value of variable x is smaller than 5\n",
    "            Take input from user and store it a variable numm\n",
    "            Add value of summ and numm and store it again in summ\n",
    "            Increase the value of x by one\n",
    "4. Divide the summ value with x and store it in a variable avgg\n",
    "5. Print the value of avgg for average"
   ]
  },
  {
   "cell_type": "code",
   "execution_count": null,
   "metadata": {},
   "outputs": [],
   "source": []
  }
 ],
 "metadata": {
  "colab": {
   "collapsed_sections": [],
   "name": "ITP - Take Home (Day 1) - Questions  (1).ipynb",
   "provenance": []
  },
  "kernelspec": {
   "display_name": "Python 3 (ipykernel)",
   "language": "python",
   "name": "python3"
  },
  "language_info": {
   "codemirror_mode": {
    "name": "ipython",
    "version": 3
   },
   "file_extension": ".py",
   "mimetype": "text/x-python",
   "name": "python",
   "nbconvert_exporter": "python",
   "pygments_lexer": "ipython3",
   "version": "3.9.12"
  }
 },
 "nbformat": 4,
 "nbformat_minor": 1
}
